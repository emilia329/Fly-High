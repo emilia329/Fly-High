{
 "cells": [
  {
   "cell_type": "code",
   "execution_count": 66,
   "metadata": {},
   "outputs": [],
   "source": [
    "import matplotlib.pyplot as plt\n",
    "import pandas as pd\n",
    "from statsmodels.formula.api import ols\n",
    "import statsmodels.api as sm\n",
    "from statsmodels.stats import weightstats as stests\n",
    "from statsmodels.stats.multicomp import pairwise_tukeyhsd\n",
    "from statsmodels.stats.multicomp import MultiComparison\n",
    "import numpy as np\n",
    "import warnings\n",
    "warnings.simplefilter('ignore')\n",
    "%run -i 'functions.py'"
   ]
  },
  {
   "cell_type": "markdown",
   "metadata": {},
   "source": [
    "# EWR Weather in 2019"
   ]
  },
  {
   "cell_type": "code",
   "execution_count": 2,
   "metadata": {},
   "outputs": [],
   "source": [
    "pd.set_option('display.max_columns', None)\n",
    "df= pd.read_csv('ewrweather.csv')"
   ]
  },
  {
   "cell_type": "markdown",
   "metadata": {},
   "source": [
    "We are going to clean and organize the data and columns into a legible dataset which will be useful for visuals and models. "
   ]
  },
  {
   "cell_type": "markdown",
   "metadata": {},
   "source": [
    "## Cleaning the dataset"
   ]
  },
  {
   "cell_type": "code",
   "execution_count": 3,
   "metadata": {},
   "outputs": [],
   "source": [
    "df['date']= pd.date_range(start='1/1/2019', end='12/31/2019')"
   ]
  },
  {
   "cell_type": "code",
   "execution_count": 4,
   "metadata": {},
   "outputs": [],
   "source": [
    "df['date'] = pd.to_datetime(df['date'])"
   ]
  },
  {
   "cell_type": "code",
   "execution_count": 5,
   "metadata": {},
   "outputs": [],
   "source": [
    "cols = list(df.columns)\n",
    "cols = [cols[-1]] + cols[:-1]\n",
    "df = df[cols]"
   ]
  },
  {
   "cell_type": "code",
   "execution_count": 6,
   "metadata": {},
   "outputs": [],
   "source": [
    "df['season'] = df.date.map(season_of_date)"
   ]
  },
  {
   "cell_type": "code",
   "execution_count": 7,
   "metadata": {},
   "outputs": [],
   "source": [
    "df['month'] = df['date'].dt.month"
   ]
  },
  {
   "cell_type": "code",
   "execution_count": 8,
   "metadata": {},
   "outputs": [],
   "source": [
    "df['date'] = pd.to_datetime(df['date'])"
   ]
  },
  {
   "cell_type": "code",
   "execution_count": 10,
   "metadata": {},
   "outputs": [],
   "source": [
    "df['precipAccumulation'].fillna(0,inplace=True)"
   ]
  },
  {
   "cell_type": "markdown",
   "metadata": {},
   "source": [
    "After cleaning the dataset we filled in the null values in 'PrecipAccumulation' because the null values indicate no accumulation due to snow. "
   ]
  },
  {
   "cell_type": "code",
   "execution_count": 12,
   "metadata": {},
   "outputs": [
    {
     "data": {
      "text/plain": [
       "rain                 148\n",
       "partly-cloudy-day    137\n",
       "clear-day             50\n",
       "snow                  11\n",
       "wind                   5\n",
       "cloudy                 4\n",
       "Name: icon, dtype: int64"
      ]
     },
     "execution_count": 12,
     "metadata": {},
     "output_type": "execute_result"
    }
   ],
   "source": [
    "df['icon'].value_counts()"
   ]
  },
  {
   "cell_type": "code",
   "execution_count": 13,
   "metadata": {},
   "outputs": [
    {
     "data": {
      "text/plain": [
       "rain    210\n",
       "snow     25\n",
       "Name: precipType, dtype: int64"
      ]
     },
     "execution_count": 13,
     "metadata": {},
     "output_type": "execute_result"
    }
   ],
   "source": [
    "df['precipType'].value_counts()"
   ]
  },
  {
   "cell_type": "code",
   "execution_count": 14,
   "metadata": {},
   "outputs": [],
   "source": [
    "df.to_csv('cleanEWRweather.csv')"
   ]
  },
  {
   "cell_type": "markdown",
   "metadata": {},
   "source": [
    "# Visuals"
   ]
  },
  {
   "cell_type": "markdown",
   "metadata": {},
   "source": [
    "### Precipitation "
   ]
  },
  {
   "cell_type": "code",
   "execution_count": 15,
   "metadata": {},
   "outputs": [
    {
     "data": {
      "text/html": [
       "<div>\n",
       "<style scoped>\n",
       "    .dataframe tbody tr th:only-of-type {\n",
       "        vertical-align: middle;\n",
       "    }\n",
       "\n",
       "    .dataframe tbody tr th {\n",
       "        vertical-align: top;\n",
       "    }\n",
       "\n",
       "    .dataframe thead tr th {\n",
       "        text-align: left;\n",
       "    }\n",
       "\n",
       "    .dataframe thead tr:last-of-type th {\n",
       "        text-align: right;\n",
       "    }\n",
       "</style>\n",
       "<table border=\"1\" class=\"dataframe\">\n",
       "  <thead>\n",
       "    <tr>\n",
       "      <th></th>\n",
       "      <th>precipProbability</th>\n",
       "    </tr>\n",
       "    <tr>\n",
       "      <th></th>\n",
       "      <th>mean</th>\n",
       "    </tr>\n",
       "    <tr>\n",
       "      <th>season</th>\n",
       "      <th></th>\n",
       "    </tr>\n",
       "  </thead>\n",
       "  <tbody>\n",
       "    <tr>\n",
       "      <th>1</th>\n",
       "      <td>0.393778</td>\n",
       "    </tr>\n",
       "    <tr>\n",
       "      <th>2</th>\n",
       "      <td>0.450674</td>\n",
       "    </tr>\n",
       "    <tr>\n",
       "      <th>3</th>\n",
       "      <td>0.357234</td>\n",
       "    </tr>\n",
       "    <tr>\n",
       "      <th>4</th>\n",
       "      <td>0.549565</td>\n",
       "    </tr>\n",
       "  </tbody>\n",
       "</table>\n",
       "</div>"
      ],
      "text/plain": [
       "       precipProbability\n",
       "                    mean\n",
       "season                  \n",
       "1               0.393778\n",
       "2               0.450674\n",
       "3               0.357234\n",
       "4               0.549565"
      ]
     },
     "execution_count": 15,
     "metadata": {},
     "output_type": "execute_result"
    }
   ],
   "source": [
    "rain = df.groupby('season').agg({'precipProbability': ['mean']})\n",
    "rain"
   ]
  },
  {
   "cell_type": "code",
   "execution_count": 16,
   "metadata": {
    "scrolled": false
   },
   "outputs": [
    {
     "data": {
      "image/png": "[encoded data removed]",
      "text/plain": [
       "<Figure size 432x288 with 1 Axes>"
      ]
     },
     "metadata": {
      "needs_background": "light"
     },
     "output_type": "display_data"
    }
   ],
   "source": [
    "avgrain(rain)"
   ]
  },
  {
   "cell_type": "markdown",
   "metadata": {},
   "source": [
    "The visual for precipitation is very similar to JFK, New York as they are close in distance. The weather data will be fairly similar in both locations."
   ]
  },
  {
   "cell_type": "markdown",
   "metadata": {},
   "source": [
    "#### ANOVA "
   ]
  },
  {
   "cell_type": "code",
   "execution_count": 61,
   "metadata": {},
   "outputs": [
    {
     "data": {
      "text/plain": [
       "<matplotlib.axes._subplots.AxesSubplot at 0x12aec4710>"
      ]
     },
     "execution_count": 61,
     "metadata": {},
     "output_type": "execute_result"
    },
    {
     "data": {
      "image/png": "[encoded data removed]",
      "text/plain": [
       "<Figure size 576x360 with 1 Axes>"
      ]
     },
     "metadata": {
      "needs_background": "light"
     },
     "output_type": "display_data"
    }
   ],
   "source": [
    "df.boxplot('precipProbability', by='season', figsize=(8, 5))"
   ]
  },
  {
   "cell_type": "markdown",
   "metadata": {},
   "source": [
    "- Ha : There is no statistically significant difference in chance of precipitaton from the four seasons.\n",
    "- Ho : There statistically significant difference in chance of precipitaton from the four seasons."
   ]
  },
  {
   "cell_type": "code",
   "execution_count": 67,
   "metadata": {
    "scrolled": true
   },
   "outputs": [
    {
     "name": "stdout",
     "output_type": "stream",
     "text": [
      "             df     sum_sq   mean_sq         F    PR(>F)\n",
      "season      3.0   1.948493  0.649498  3.726993  0.011583\n",
      "Residual  361.0  62.910939  0.174269       NaN       NaN\n",
      "Multiple Comparison of Means - Tukey HSD, FWER=0.05\n",
      "===================================================\n",
      "group1 group2 meandiff p-adj   lower  upper  reject\n",
      "---------------------------------------------------\n",
      "     1      2   0.0569 0.7737 -0.1042  0.218  False\n",
      "     1      3  -0.0365    0.9 -0.1955 0.1224  False\n",
      "     1      4   0.1558  0.059  -0.004 0.3155  False\n",
      "     2      3  -0.0934 0.4319 -0.2528 0.0659  False\n",
      "     2      4   0.0989 0.3848 -0.0613 0.2591  False\n",
      "     3      4   0.1923 0.0098  0.0343 0.3504   True\n",
      "---------------------------------------------------\n"
     ]
    }
   ],
   "source": [
    "anova(df)"
   ]
  },
  {
   "cell_type": "markdown",
   "metadata": {},
   "source": [
    "According to the results we can see the pvalue for the ANOVA test is less than our alpha of 0.05 therefore we can conclude there is a significant difference between the probability of precipitaion in seasons. We conduct a Tukey multiple pairwise- comparison to identify where the difference occurs.\n",
    "Looking at each season we can see there was no statistically signifance difference in comparing winter and autumn with the other seasons therefore we can assume there is not enough evidence to compare winter and autumn with the other two seasons. But when comparing spring and summer with each other there is statistical significance therefore the result is not attributed by  chance."
   ]
  },
  {
   "cell_type": "markdown",
   "metadata": {},
   "source": [
    "### Temperature"
   ]
  },
  {
   "cell_type": "code",
   "execution_count": 17,
   "metadata": {},
   "outputs": [],
   "source": [
    "df['avgtemp']= df[['temperatureMax','temperatureMin']].mean(axis=1)"
   ]
  },
  {
   "cell_type": "code",
   "execution_count": 18,
   "metadata": {},
   "outputs": [
    {
     "data": {
      "text/html": [
       "<div>\n",
       "<style scoped>\n",
       "    .dataframe tbody tr th:only-of-type {\n",
       "        vertical-align: middle;\n",
       "    }\n",
       "\n",
       "    .dataframe tbody tr th {\n",
       "        vertical-align: top;\n",
       "    }\n",
       "\n",
       "    .dataframe thead tr th {\n",
       "        text-align: left;\n",
       "    }\n",
       "\n",
       "    .dataframe thead tr:last-of-type th {\n",
       "        text-align: right;\n",
       "    }\n",
       "</style>\n",
       "<table border=\"1\" class=\"dataframe\">\n",
       "  <thead>\n",
       "    <tr>\n",
       "      <th></th>\n",
       "      <th>avgtemp</th>\n",
       "    </tr>\n",
       "    <tr>\n",
       "      <th></th>\n",
       "      <th>mean</th>\n",
       "    </tr>\n",
       "    <tr>\n",
       "      <th>season</th>\n",
       "      <th></th>\n",
       "    </tr>\n",
       "  </thead>\n",
       "  <tbody>\n",
       "    <tr>\n",
       "      <th>1</th>\n",
       "      <td>35.313778</td>\n",
       "    </tr>\n",
       "    <tr>\n",
       "      <th>2</th>\n",
       "      <td>50.705955</td>\n",
       "    </tr>\n",
       "    <tr>\n",
       "      <th>3</th>\n",
       "      <td>76.361755</td>\n",
       "    </tr>\n",
       "    <tr>\n",
       "      <th>4</th>\n",
       "      <td>59.912826</td>\n",
       "    </tr>\n",
       "  </tbody>\n",
       "</table>\n",
       "</div>"
      ],
      "text/plain": [
       "          avgtemp\n",
       "             mean\n",
       "season           \n",
       "1       35.313778\n",
       "2       50.705955\n",
       "3       76.361755\n",
       "4       59.912826"
      ]
     },
     "execution_count": 18,
     "metadata": {},
     "output_type": "execute_result"
    }
   ],
   "source": [
    "temp = df.groupby('season').agg({'avgtemp': ['mean']})\n",
    "temp"
   ]
  },
  {
   "cell_type": "code",
   "execution_count": 19,
   "metadata": {},
   "outputs": [
    {
     "data": {
      "image/png": "[encoded data removed]",
      "text/plain": [
       "<Figure size 432x288 with 1 Axes>"
      ]
     },
     "metadata": {
      "needs_background": "light"
     },
     "output_type": "display_data"
    }
   ],
   "source": [
    "avgtemp(temp)"
   ]
  },
  {
   "cell_type": "markdown",
   "metadata": {},
   "source": [
    "Again, we can identify the season with the highest average temperature is summer. "
   ]
  },
  {
   "cell_type": "markdown",
   "metadata": {},
   "source": [
    "# Analysis of Weather Delays"
   ]
  },
  {
   "cell_type": "markdown",
   "metadata": {},
   "source": [
    "In the EWR notebook, I have identified the dates with the longest delays due to weather conditions. Below are the top 3 dates in which had the longest dates. These dates are actualy different from JFK delayed dates. "
   ]
  },
  {
   "cell_type": "code",
   "execution_count": 22,
   "metadata": {},
   "outputs": [],
   "source": [
    "airport= pd.read_csv('final1.csv')\n",
    "airport.drop(['Unnamed: 0'],axis=1,inplace=True)\n",
    "EWR = airport[airport['ORIGIN_STATE_ABR'] == 'NJ']"
   ]
  },
  {
   "cell_type": "code",
   "execution_count": 23,
   "metadata": {},
   "outputs": [
    {
     "data": {
      "text/plain": [
       "FL_DATE\n",
       "2019-02-20    6\n",
       "2019-06-20    6\n",
       "2019-12-01    6\n",
       "dtype: int64"
      ]
     },
     "execution_count": 23,
     "metadata": {},
     "output_type": "execute_result"
    }
   ],
   "source": [
    "EWR[EWR['WEATHER_DELAY'] > 0].groupby(['FL_DATE']).size().nlargest(3)"
   ]
  },
  {
   "cell_type": "markdown",
   "metadata": {},
   "source": [
    "### 2019-02-20"
   ]
  },
  {
   "cell_type": "code",
   "execution_count": 24,
   "metadata": {},
   "outputs": [
    {
     "data": {
      "text/plain": [
       "OP_UNIQUE_CARRIER\n",
       "AS     2\n",
       "UA    10\n",
       "dtype: int64"
      ]
     },
     "execution_count": 24,
     "metadata": {},
     "output_type": "execute_result"
    }
   ],
   "source": [
    "EWR[(EWR['FL_DATE'] =='2019-02-20')].groupby(['OP_UNIQUE_CARRIER']).size()\n"
   ]
  },
  {
   "cell_type": "markdown",
   "metadata": {},
   "source": [
    "On this date only 12 flights travel to Los Angeles. Out of those 12 flights only half were delayed and those delayed flights are from United Airlines."
   ]
  },
  {
   "cell_type": "code",
   "execution_count": 26,
   "metadata": {},
   "outputs": [
    {
     "data": {
      "text/plain": [
       "OP_UNIQUE_CARRIER\n",
       "UA    6\n",
       "dtype: int64"
      ]
     },
     "execution_count": 26,
     "metadata": {},
     "output_type": "execute_result"
    }
   ],
   "source": [
    "EWR[(EWR['FL_DATE'] =='2019-02-20') & (EWR['WEATHER_DELAY'] > 0)].groupby(['OP_UNIQUE_CARRIER']).size()"
   ]
  },
  {
   "cell_type": "code",
   "execution_count": 27,
   "metadata": {
    "scrolled": true
   },
   "outputs": [
    {
     "data": {
      "text/html": [
       "<div>\n",
       "<style scoped>\n",
       "    .dataframe tbody tr th:only-of-type {\n",
       "        vertical-align: middle;\n",
       "    }\n",
       "\n",
       "    .dataframe tbody tr th {\n",
       "        vertical-align: top;\n",
       "    }\n",
       "\n",
       "    .dataframe thead tr th {\n",
       "        text-align: left;\n",
       "    }\n",
       "\n",
       "    .dataframe thead tr:last-of-type th {\n",
       "        text-align: right;\n",
       "    }\n",
       "</style>\n",
       "<table border=\"1\" class=\"dataframe\">\n",
       "  <thead>\n",
       "    <tr>\n",
       "      <th></th>\n",
       "      <th>WEATHER_DELAY</th>\n",
       "    </tr>\n",
       "    <tr>\n",
       "      <th></th>\n",
       "      <th>sum</th>\n",
       "    </tr>\n",
       "    <tr>\n",
       "      <th>OP_UNIQUE_CARRIER</th>\n",
       "      <th></th>\n",
       "    </tr>\n",
       "  </thead>\n",
       "  <tbody>\n",
       "    <tr>\n",
       "      <th>UA</th>\n",
       "      <td>942.0</td>\n",
       "    </tr>\n",
       "  </tbody>\n",
       "</table>\n",
       "</div>"
      ],
      "text/plain": [
       "                  WEATHER_DELAY\n",
       "                            sum\n",
       "OP_UNIQUE_CARRIER              \n",
       "UA                        942.0"
      ]
     },
     "execution_count": 27,
     "metadata": {},
     "output_type": "execute_result"
    }
   ],
   "source": [
    "EWR[(EWR['FL_DATE'] =='2019-02-20') & (EWR['WEATHER_DELAY'] > 0)].groupby(['OP_UNIQUE_CARRIER']).agg({'WEATHER_DELAY': ['sum']})"
   ]
  },
  {
   "cell_type": "markdown",
   "metadata": {},
   "source": [
    "United Airlines has the largest delay time due to weather. The 6 flights were delayed with a total of 942 minutes!"
   ]
  },
  {
   "cell_type": "code",
   "execution_count": 43,
   "metadata": {},
   "outputs": [
    {
     "data": {
      "text/html": [
       "<div>\n",
       "<style scoped>\n",
       "    .dataframe tbody tr th:only-of-type {\n",
       "        vertical-align: middle;\n",
       "    }\n",
       "\n",
       "    .dataframe tbody tr th {\n",
       "        vertical-align: top;\n",
       "    }\n",
       "\n",
       "    .dataframe thead th {\n",
       "        text-align: right;\n",
       "    }\n",
       "</style>\n",
       "<table border=\"1\" class=\"dataframe\">\n",
       "  <thead>\n",
       "    <tr style=\"text-align: right;\">\n",
       "      <th></th>\n",
       "      <th>QUARTER</th>\n",
       "      <th>MONTH</th>\n",
       "      <th>DAY_OF_MONTH</th>\n",
       "      <th>DAY_OF_WEEK</th>\n",
       "      <th>FL_DATE</th>\n",
       "      <th>OP_UNIQUE_CARRIER</th>\n",
       "      <th>OP_CARRIER_FL_NUM</th>\n",
       "      <th>ORIGIN_AIRPORT_ID</th>\n",
       "      <th>ORIGIN</th>\n",
       "      <th>ORIGIN_CITY_NAME</th>\n",
       "      <th>ORIGIN_STATE_ABR</th>\n",
       "      <th>ORIGIN_STATE_NM</th>\n",
       "      <th>DEST_AIRPORT_ID</th>\n",
       "      <th>DEST</th>\n",
       "      <th>DEST_CITY_NAME</th>\n",
       "      <th>DEST_STATE_ABR</th>\n",
       "      <th>DEST_STATE_NM</th>\n",
       "      <th>DEP_TIME</th>\n",
       "      <th>DEP_DELAY</th>\n",
       "      <th>ARR_TIME</th>\n",
       "      <th>ARR_DELAY</th>\n",
       "      <th>CANCELLED</th>\n",
       "      <th>AIR_TIME</th>\n",
       "      <th>DISTANCE</th>\n",
       "      <th>CARRIER_DELAY</th>\n",
       "      <th>WEATHER_DELAY</th>\n",
       "      <th>NAS_DELAY</th>\n",
       "      <th>SECURITY_DELAY</th>\n",
       "      <th>LATE_AIRCRAFT_DELAY</th>\n",
       "      <th>delayed</th>\n",
       "      <th>ontime</th>\n",
       "      <th>cancel</th>\n",
       "      <th>class</th>\n",
       "      <th>delay_carrier</th>\n",
       "      <th>delay_weather</th>\n",
       "      <th>delay_nas</th>\n",
       "      <th>delay_security</th>\n",
       "      <th>delay_late_aircraft</th>\n",
       "    </tr>\n",
       "  </thead>\n",
       "  <tbody>\n",
       "    <tr>\n",
       "      <th>26396</th>\n",
       "      <td>1</td>\n",
       "      <td>2</td>\n",
       "      <td>20</td>\n",
       "      <td>3</td>\n",
       "      <td>2019-02-20</td>\n",
       "      <td>UA</td>\n",
       "      <td>1871</td>\n",
       "      <td>11618</td>\n",
       "      <td>EWR</td>\n",
       "      <td>Newark, NJ</td>\n",
       "      <td>NJ</td>\n",
       "      <td>New Jersey</td>\n",
       "      <td>12892</td>\n",
       "      <td>LAX</td>\n",
       "      <td>Los Angeles, CA</td>\n",
       "      <td>CA</td>\n",
       "      <td>California</td>\n",
       "      <td>50.0</td>\n",
       "      <td>350.0</td>\n",
       "      <td>500.0</td>\n",
       "      <td>398.0</td>\n",
       "      <td>0.0</td>\n",
       "      <td>363.0</td>\n",
       "      <td>2454.0</td>\n",
       "      <td>0.0</td>\n",
       "      <td>59.0</td>\n",
       "      <td>48.0</td>\n",
       "      <td>0.0</td>\n",
       "      <td>291.0</td>\n",
       "      <td>True</td>\n",
       "      <td>False</td>\n",
       "      <td>False</td>\n",
       "      <td>2</td>\n",
       "      <td>False</td>\n",
       "      <td>True</td>\n",
       "      <td>True</td>\n",
       "      <td>False</td>\n",
       "      <td>True</td>\n",
       "    </tr>\n",
       "    <tr>\n",
       "      <th>26397</th>\n",
       "      <td>1</td>\n",
       "      <td>2</td>\n",
       "      <td>20</td>\n",
       "      <td>3</td>\n",
       "      <td>2019-02-20</td>\n",
       "      <td>UA</td>\n",
       "      <td>1600</td>\n",
       "      <td>11618</td>\n",
       "      <td>EWR</td>\n",
       "      <td>Newark, NJ</td>\n",
       "      <td>NJ</td>\n",
       "      <td>New Jersey</td>\n",
       "      <td>12892</td>\n",
       "      <td>LAX</td>\n",
       "      <td>Los Angeles, CA</td>\n",
       "      <td>CA</td>\n",
       "      <td>California</td>\n",
       "      <td>1742.0</td>\n",
       "      <td>42.0</td>\n",
       "      <td>2205.0</td>\n",
       "      <td>105.0</td>\n",
       "      <td>0.0</td>\n",
       "      <td>348.0</td>\n",
       "      <td>2454.0</td>\n",
       "      <td>0.0</td>\n",
       "      <td>42.0</td>\n",
       "      <td>63.0</td>\n",
       "      <td>0.0</td>\n",
       "      <td>0.0</td>\n",
       "      <td>True</td>\n",
       "      <td>False</td>\n",
       "      <td>False</td>\n",
       "      <td>2</td>\n",
       "      <td>False</td>\n",
       "      <td>True</td>\n",
       "      <td>True</td>\n",
       "      <td>False</td>\n",
       "      <td>False</td>\n",
       "    </tr>\n",
       "    <tr>\n",
       "      <th>26400</th>\n",
       "      <td>1</td>\n",
       "      <td>2</td>\n",
       "      <td>20</td>\n",
       "      <td>3</td>\n",
       "      <td>2019-02-20</td>\n",
       "      <td>UA</td>\n",
       "      <td>1156</td>\n",
       "      <td>11618</td>\n",
       "      <td>EWR</td>\n",
       "      <td>Newark, NJ</td>\n",
       "      <td>NJ</td>\n",
       "      <td>New Jersey</td>\n",
       "      <td>12892</td>\n",
       "      <td>LAX</td>\n",
       "      <td>Los Angeles, CA</td>\n",
       "      <td>CA</td>\n",
       "      <td>California</td>\n",
       "      <td>1212.0</td>\n",
       "      <td>12.0</td>\n",
       "      <td>1606.0</td>\n",
       "      <td>45.0</td>\n",
       "      <td>0.0</td>\n",
       "      <td>347.0</td>\n",
       "      <td>2454.0</td>\n",
       "      <td>0.0</td>\n",
       "      <td>12.0</td>\n",
       "      <td>33.0</td>\n",
       "      <td>0.0</td>\n",
       "      <td>0.0</td>\n",
       "      <td>True</td>\n",
       "      <td>False</td>\n",
       "      <td>False</td>\n",
       "      <td>2</td>\n",
       "      <td>False</td>\n",
       "      <td>True</td>\n",
       "      <td>True</td>\n",
       "      <td>False</td>\n",
       "      <td>False</td>\n",
       "    </tr>\n",
       "    <tr>\n",
       "      <th>26402</th>\n",
       "      <td>1</td>\n",
       "      <td>2</td>\n",
       "      <td>20</td>\n",
       "      <td>3</td>\n",
       "      <td>2019-02-20</td>\n",
       "      <td>UA</td>\n",
       "      <td>751</td>\n",
       "      <td>11618</td>\n",
       "      <td>EWR</td>\n",
       "      <td>Newark, NJ</td>\n",
       "      <td>NJ</td>\n",
       "      <td>New Jersey</td>\n",
       "      <td>12892</td>\n",
       "      <td>LAX</td>\n",
       "      <td>Los Angeles, CA</td>\n",
       "      <td>CA</td>\n",
       "      <td>California</td>\n",
       "      <td>1622.0</td>\n",
       "      <td>22.0</td>\n",
       "      <td>2022.0</td>\n",
       "      <td>59.0</td>\n",
       "      <td>0.0</td>\n",
       "      <td>352.0</td>\n",
       "      <td>2454.0</td>\n",
       "      <td>0.0</td>\n",
       "      <td>22.0</td>\n",
       "      <td>37.0</td>\n",
       "      <td>0.0</td>\n",
       "      <td>0.0</td>\n",
       "      <td>True</td>\n",
       "      <td>False</td>\n",
       "      <td>False</td>\n",
       "      <td>2</td>\n",
       "      <td>False</td>\n",
       "      <td>True</td>\n",
       "      <td>True</td>\n",
       "      <td>False</td>\n",
       "      <td>False</td>\n",
       "    </tr>\n",
       "    <tr>\n",
       "      <th>26408</th>\n",
       "      <td>1</td>\n",
       "      <td>2</td>\n",
       "      <td>20</td>\n",
       "      <td>3</td>\n",
       "      <td>2019-02-20</td>\n",
       "      <td>UA</td>\n",
       "      <td>275</td>\n",
       "      <td>11618</td>\n",
       "      <td>EWR</td>\n",
       "      <td>Newark, NJ</td>\n",
       "      <td>NJ</td>\n",
       "      <td>New Jersey</td>\n",
       "      <td>12892</td>\n",
       "      <td>LAX</td>\n",
       "      <td>Los Angeles, CA</td>\n",
       "      <td>CA</td>\n",
       "      <td>California</td>\n",
       "      <td>1120.0</td>\n",
       "      <td>1040.0</td>\n",
       "      <td>1451.0</td>\n",
       "      <td>1054.0</td>\n",
       "      <td>0.0</td>\n",
       "      <td>367.0</td>\n",
       "      <td>2454.0</td>\n",
       "      <td>0.0</td>\n",
       "      <td>761.0</td>\n",
       "      <td>14.0</td>\n",
       "      <td>0.0</td>\n",
       "      <td>279.0</td>\n",
       "      <td>True</td>\n",
       "      <td>False</td>\n",
       "      <td>False</td>\n",
       "      <td>2</td>\n",
       "      <td>False</td>\n",
       "      <td>True</td>\n",
       "      <td>True</td>\n",
       "      <td>False</td>\n",
       "      <td>True</td>\n",
       "    </tr>\n",
       "    <tr>\n",
       "      <th>26552</th>\n",
       "      <td>1</td>\n",
       "      <td>2</td>\n",
       "      <td>20</td>\n",
       "      <td>3</td>\n",
       "      <td>2019-02-20</td>\n",
       "      <td>UA</td>\n",
       "      <td>2394</td>\n",
       "      <td>11618</td>\n",
       "      <td>EWR</td>\n",
       "      <td>Newark, NJ</td>\n",
       "      <td>NJ</td>\n",
       "      <td>New Jersey</td>\n",
       "      <td>12892</td>\n",
       "      <td>LAX</td>\n",
       "      <td>Los Angeles, CA</td>\n",
       "      <td>CA</td>\n",
       "      <td>California</td>\n",
       "      <td>1446.0</td>\n",
       "      <td>46.0</td>\n",
       "      <td>1856.0</td>\n",
       "      <td>99.0</td>\n",
       "      <td>0.0</td>\n",
       "      <td>355.0</td>\n",
       "      <td>2454.0</td>\n",
       "      <td>0.0</td>\n",
       "      <td>46.0</td>\n",
       "      <td>53.0</td>\n",
       "      <td>0.0</td>\n",
       "      <td>0.0</td>\n",
       "      <td>True</td>\n",
       "      <td>False</td>\n",
       "      <td>False</td>\n",
       "      <td>2</td>\n",
       "      <td>False</td>\n",
       "      <td>True</td>\n",
       "      <td>True</td>\n",
       "      <td>False</td>\n",
       "      <td>False</td>\n",
       "    </tr>\n",
       "  </tbody>\n",
       "</table>\n",
       "</div>"
      ],
      "text/plain": [
       "       QUARTER  MONTH  DAY_OF_MONTH  DAY_OF_WEEK     FL_DATE  \\\n",
       "26396        1      2            20            3  2019-02-20   \n",
       "26397        1      2            20            3  2019-02-20   \n",
       "26400        1      2            20            3  2019-02-20   \n",
       "26402        1      2            20            3  2019-02-20   \n",
       "26408        1      2            20            3  2019-02-20   \n",
       "26552        1      2            20            3  2019-02-20   \n",
       "\n",
       "      OP_UNIQUE_CARRIER  OP_CARRIER_FL_NUM  ORIGIN_AIRPORT_ID ORIGIN  \\\n",
       "26396                UA               1871              11618    EWR   \n",
       "26397                UA               1600              11618    EWR   \n",
       "26400                UA               1156              11618    EWR   \n",
       "26402                UA                751              11618    EWR   \n",
       "26408                UA                275              11618    EWR   \n",
       "26552                UA               2394              11618    EWR   \n",
       "\n",
       "      ORIGIN_CITY_NAME ORIGIN_STATE_ABR ORIGIN_STATE_NM  DEST_AIRPORT_ID DEST  \\\n",
       "26396       Newark, NJ               NJ      New Jersey            12892  LAX   \n",
       "26397       Newark, NJ               NJ      New Jersey            12892  LAX   \n",
       "26400       Newark, NJ               NJ      New Jersey            12892  LAX   \n",
       "26402       Newark, NJ               NJ      New Jersey            12892  LAX   \n",
       "26408       Newark, NJ               NJ      New Jersey            12892  LAX   \n",
       "26552       Newark, NJ               NJ      New Jersey            12892  LAX   \n",
       "\n",
       "        DEST_CITY_NAME DEST_STATE_ABR DEST_STATE_NM  DEP_TIME  DEP_DELAY  \\\n",
       "26396  Los Angeles, CA             CA    California      50.0      350.0   \n",
       "26397  Los Angeles, CA             CA    California    1742.0       42.0   \n",
       "26400  Los Angeles, CA             CA    California    1212.0       12.0   \n",
       "26402  Los Angeles, CA             CA    California    1622.0       22.0   \n",
       "26408  Los Angeles, CA             CA    California    1120.0     1040.0   \n",
       "26552  Los Angeles, CA             CA    California    1446.0       46.0   \n",
       "\n",
       "       ARR_TIME  ARR_DELAY  CANCELLED  AIR_TIME  DISTANCE  CARRIER_DELAY  \\\n",
       "26396     500.0      398.0        0.0     363.0    2454.0            0.0   \n",
       "26397    2205.0      105.0        0.0     348.0    2454.0            0.0   \n",
       "26400    1606.0       45.0        0.0     347.0    2454.0            0.0   \n",
       "26402    2022.0       59.0        0.0     352.0    2454.0            0.0   \n",
       "26408    1451.0     1054.0        0.0     367.0    2454.0            0.0   \n",
       "26552    1856.0       99.0        0.0     355.0    2454.0            0.0   \n",
       "\n",
       "       WEATHER_DELAY  NAS_DELAY  SECURITY_DELAY  LATE_AIRCRAFT_DELAY  delayed  \\\n",
       "26396           59.0       48.0             0.0                291.0     True   \n",
       "26397           42.0       63.0             0.0                  0.0     True   \n",
       "26400           12.0       33.0             0.0                  0.0     True   \n",
       "26402           22.0       37.0             0.0                  0.0     True   \n",
       "26408          761.0       14.0             0.0                279.0     True   \n",
       "26552           46.0       53.0             0.0                  0.0     True   \n",
       "\n",
       "       ontime  cancel  class  delay_carrier  delay_weather  delay_nas  \\\n",
       "26396   False   False      2          False           True       True   \n",
       "26397   False   False      2          False           True       True   \n",
       "26400   False   False      2          False           True       True   \n",
       "26402   False   False      2          False           True       True   \n",
       "26408   False   False      2          False           True       True   \n",
       "26552   False   False      2          False           True       True   \n",
       "\n",
       "       delay_security  delay_late_aircraft  \n",
       "26396           False                 True  \n",
       "26397           False                False  \n",
       "26400           False                False  \n",
       "26402           False                False  \n",
       "26408           False                 True  \n",
       "26552           False                False  "
      ]
     },
     "execution_count": 43,
     "metadata": {},
     "output_type": "execute_result"
    }
   ],
   "source": [
    "EWR[(EWR['FL_DATE'] =='2019-02-20') & (EWR['WEATHER_DELAY'] > 0)]"
   ]
  },
  {
   "cell_type": "code",
   "execution_count": 29,
   "metadata": {
    "scrolled": true
   },
   "outputs": [
    {
     "data": {
      "text/html": [
       "<div>\n",
       "<style scoped>\n",
       "    .dataframe tbody tr th:only-of-type {\n",
       "        vertical-align: middle;\n",
       "    }\n",
       "\n",
       "    .dataframe tbody tr th {\n",
       "        vertical-align: top;\n",
       "    }\n",
       "\n",
       "    .dataframe thead th {\n",
       "        text-align: right;\n",
       "    }\n",
       "</style>\n",
       "<table border=\"1\" class=\"dataframe\">\n",
       "  <thead>\n",
       "    <tr style=\"text-align: right;\">\n",
       "      <th></th>\n",
       "      <th>date</th>\n",
       "      <th>time</th>\n",
       "      <th>summary</th>\n",
       "      <th>icon</th>\n",
       "      <th>sunriseTime</th>\n",
       "      <th>sunsetTime</th>\n",
       "      <th>moonPhase</th>\n",
       "      <th>precipIntensity</th>\n",
       "      <th>precipIntensityMax</th>\n",
       "      <th>precipIntensityMaxTime</th>\n",
       "      <th>precipProbability</th>\n",
       "      <th>precipType</th>\n",
       "      <th>temperatureHigh</th>\n",
       "      <th>temperatureHighTime</th>\n",
       "      <th>temperatureLow</th>\n",
       "      <th>temperatureLowTime</th>\n",
       "      <th>apparentTemperatureHigh</th>\n",
       "      <th>apparentTemperatureHighTime</th>\n",
       "      <th>apparentTemperatureLow</th>\n",
       "      <th>apparentTemperatureLowTime</th>\n",
       "      <th>dewPoint</th>\n",
       "      <th>humidity</th>\n",
       "      <th>pressure</th>\n",
       "      <th>windSpeed</th>\n",
       "      <th>windGust</th>\n",
       "      <th>windGustTime</th>\n",
       "      <th>windBearing</th>\n",
       "      <th>cloudCover</th>\n",
       "      <th>uvIndex</th>\n",
       "      <th>uvIndexTime</th>\n",
       "      <th>visibility</th>\n",
       "      <th>ozone</th>\n",
       "      <th>temperatureMin</th>\n",
       "      <th>temperatureMinTime</th>\n",
       "      <th>temperatureMax</th>\n",
       "      <th>temperatureMaxTime</th>\n",
       "      <th>apparentTemperatureMin</th>\n",
       "      <th>apparentTemperatureMinTime</th>\n",
       "      <th>apparentTemperatureMax</th>\n",
       "      <th>apparentTemperatureMaxTime</th>\n",
       "      <th>precipAccumulation</th>\n",
       "      <th>season</th>\n",
       "      <th>month</th>\n",
       "      <th>avgtemp</th>\n",
       "    </tr>\n",
       "  </thead>\n",
       "  <tbody>\n",
       "    <tr>\n",
       "      <th>50</th>\n",
       "      <td>2019-02-20</td>\n",
       "      <td>1550552400</td>\n",
       "      <td>Partly cloudy throughout the day.</td>\n",
       "      <td>partly-cloudy-day</td>\n",
       "      <td>1550576820</td>\n",
       "      <td>1550615820</td>\n",
       "      <td>0.52</td>\n",
       "      <td>0.0</td>\n",
       "      <td>0.0001</td>\n",
       "      <td>1.550585e+09</td>\n",
       "      <td>0.03</td>\n",
       "      <td>NaN</td>\n",
       "      <td>37.72</td>\n",
       "      <td>1550606400</td>\n",
       "      <td>26.24</td>\n",
       "      <td>1550666160</td>\n",
       "      <td>29.38</td>\n",
       "      <td>1550606340</td>\n",
       "      <td>19.45</td>\n",
       "      <td>1550665260</td>\n",
       "      <td>6.83</td>\n",
       "      <td>0.39</td>\n",
       "      <td>1033.8</td>\n",
       "      <td>10.03</td>\n",
       "      <td>16.91</td>\n",
       "      <td>1550613600</td>\n",
       "      <td>313</td>\n",
       "      <td>0.37</td>\n",
       "      <td>3</td>\n",
       "      <td>1550598660</td>\n",
       "      <td>10.0</td>\n",
       "      <td>304.7</td>\n",
       "      <td>22.26</td>\n",
       "      <td>1550575800</td>\n",
       "      <td>37.72</td>\n",
       "      <td>1550606400</td>\n",
       "      <td>13.23</td>\n",
       "      <td>1550573940</td>\n",
       "      <td>29.38</td>\n",
       "      <td>1550606340</td>\n",
       "      <td>0.0</td>\n",
       "      <td>1</td>\n",
       "      <td>2</td>\n",
       "      <td>29.99</td>\n",
       "    </tr>\n",
       "  </tbody>\n",
       "</table>\n",
       "</div>"
      ],
      "text/plain": [
       "         date        time                            summary  \\\n",
       "50 2019-02-20  1550552400  Partly cloudy throughout the day.   \n",
       "\n",
       "                 icon  sunriseTime  sunsetTime  moonPhase  precipIntensity  \\\n",
       "50  partly-cloudy-day   1550576820  1550615820       0.52              0.0   \n",
       "\n",
       "    precipIntensityMax  precipIntensityMaxTime  precipProbability precipType  \\\n",
       "50              0.0001            1.550585e+09               0.03        NaN   \n",
       "\n",
       "    temperatureHigh  temperatureHighTime  temperatureLow  temperatureLowTime  \\\n",
       "50            37.72           1550606400           26.24          1550666160   \n",
       "\n",
       "    apparentTemperatureHigh  apparentTemperatureHighTime  \\\n",
       "50                    29.38                   1550606340   \n",
       "\n",
       "    apparentTemperatureLow  apparentTemperatureLowTime  dewPoint  humidity  \\\n",
       "50                   19.45                  1550665260      6.83      0.39   \n",
       "\n",
       "    pressure  windSpeed  windGust  windGustTime  windBearing  cloudCover  \\\n",
       "50    1033.8      10.03     16.91    1550613600          313        0.37   \n",
       "\n",
       "    uvIndex  uvIndexTime  visibility  ozone  temperatureMin  \\\n",
       "50        3   1550598660        10.0  304.7           22.26   \n",
       "\n",
       "    temperatureMinTime  temperatureMax  temperatureMaxTime  \\\n",
       "50          1550575800           37.72          1550606400   \n",
       "\n",
       "    apparentTemperatureMin  apparentTemperatureMinTime  \\\n",
       "50                   13.23                  1550573940   \n",
       "\n",
       "    apparentTemperatureMax  apparentTemperatureMaxTime  precipAccumulation  \\\n",
       "50                   29.38                  1550606340                 0.0   \n",
       "\n",
       "   season  month  avgtemp  \n",
       "50      1      2    29.99  "
      ]
     },
     "execution_count": 29,
     "metadata": {},
     "output_type": "execute_result"
    }
   ],
   "source": [
    "df[df['date']== '2019-02-20']"
   ]
  },
  {
   "cell_type": "markdown",
   "metadata": {},
   "source": [
    "According to the weather data in EWR we can see there is low chance of rain on this date. In addition, there is not evidence of precipitation due to snow. Let's look into the weather in LAX on this date to see if the delay was due to weather in the destination. "
   ]
  },
  {
   "cell_type": "code",
   "execution_count": 30,
   "metadata": {},
   "outputs": [],
   "source": [
    "LAX = pd.read_csv('cleanlaxweather.csv')"
   ]
  },
  {
   "cell_type": "code",
   "execution_count": 31,
   "metadata": {},
   "outputs": [
    {
     "data": {
      "text/html": [
       "<div>\n",
       "<style scoped>\n",
       "    .dataframe tbody tr th:only-of-type {\n",
       "        vertical-align: middle;\n",
       "    }\n",
       "\n",
       "    .dataframe tbody tr th {\n",
       "        vertical-align: top;\n",
       "    }\n",
       "\n",
       "    .dataframe thead th {\n",
       "        text-align: right;\n",
       "    }\n",
       "</style>\n",
       "<table border=\"1\" class=\"dataframe\">\n",
       "  <thead>\n",
       "    <tr style=\"text-align: right;\">\n",
       "      <th></th>\n",
       "      <th>Unnamed: 0</th>\n",
       "      <th>date</th>\n",
       "      <th>time</th>\n",
       "      <th>summary</th>\n",
       "      <th>icon</th>\n",
       "      <th>sunriseTime</th>\n",
       "      <th>sunsetTime</th>\n",
       "      <th>moonPhase</th>\n",
       "      <th>precipIntensity</th>\n",
       "      <th>precipIntensityMax</th>\n",
       "      <th>precipIntensityMaxTime</th>\n",
       "      <th>precipProbability</th>\n",
       "      <th>precipType</th>\n",
       "      <th>temperatureHigh</th>\n",
       "      <th>temperatureHighTime</th>\n",
       "      <th>temperatureLow</th>\n",
       "      <th>temperatureLowTime</th>\n",
       "      <th>apparentTemperatureHigh</th>\n",
       "      <th>apparentTemperatureHighTime</th>\n",
       "      <th>apparentTemperatureLow</th>\n",
       "      <th>apparentTemperatureLowTime</th>\n",
       "      <th>dewPoint</th>\n",
       "      <th>humidity</th>\n",
       "      <th>pressure</th>\n",
       "      <th>windSpeed</th>\n",
       "      <th>windGust</th>\n",
       "      <th>windGustTime</th>\n",
       "      <th>windBearing</th>\n",
       "      <th>cloudCover</th>\n",
       "      <th>uvIndex</th>\n",
       "      <th>uvIndexTime</th>\n",
       "      <th>visibility</th>\n",
       "      <th>ozone</th>\n",
       "      <th>temperatureMin</th>\n",
       "      <th>temperatureMinTime</th>\n",
       "      <th>temperatureMax</th>\n",
       "      <th>temperatureMaxTime</th>\n",
       "      <th>apparentTemperatureMin</th>\n",
       "      <th>apparentTemperatureMinTime</th>\n",
       "      <th>apparentTemperatureMax</th>\n",
       "      <th>apparentTemperatureMaxTime</th>\n",
       "      <th>season</th>\n",
       "      <th>month</th>\n",
       "      <th>avgtemp</th>\n",
       "    </tr>\n",
       "  </thead>\n",
       "  <tbody>\n",
       "    <tr>\n",
       "      <th>50</th>\n",
       "      <td>50</td>\n",
       "      <td>2019-02-20</td>\n",
       "      <td>1550563200</td>\n",
       "      <td>Clear throughout the day.</td>\n",
       "      <td>clear-day</td>\n",
       "      <td>1550586900</td>\n",
       "      <td>1550626920</td>\n",
       "      <td>0.52</td>\n",
       "      <td>0.0002</td>\n",
       "      <td>0.0007</td>\n",
       "      <td>1550645640</td>\n",
       "      <td>0.05</td>\n",
       "      <td>rain</td>\n",
       "      <td>58.7</td>\n",
       "      <td>1550609040</td>\n",
       "      <td>44.39</td>\n",
       "      <td>1550657580</td>\n",
       "      <td>58.2</td>\n",
       "      <td>1550609040</td>\n",
       "      <td>42.07</td>\n",
       "      <td>1550656980</td>\n",
       "      <td>27.86</td>\n",
       "      <td>0.4</td>\n",
       "      <td>1020.0</td>\n",
       "      <td>7.25</td>\n",
       "      <td>15.26</td>\n",
       "      <td>1550566860</td>\n",
       "      <td>295</td>\n",
       "      <td>0.02</td>\n",
       "      <td>5</td>\n",
       "      <td>1550606580</td>\n",
       "      <td>10.0</td>\n",
       "      <td>327.7</td>\n",
       "      <td>45.58</td>\n",
       "      <td>1550587500</td>\n",
       "      <td>58.7</td>\n",
       "      <td>1550609040</td>\n",
       "      <td>42.24</td>\n",
       "      <td>1550584080</td>\n",
       "      <td>58.2</td>\n",
       "      <td>1550609040</td>\n",
       "      <td>1</td>\n",
       "      <td>2</td>\n",
       "      <td>52.14</td>\n",
       "    </tr>\n",
       "  </tbody>\n",
       "</table>\n",
       "</div>"
      ],
      "text/plain": [
       "    Unnamed: 0        date        time                    summary       icon  \\\n",
       "50          50  2019-02-20  1550563200  Clear throughout the day.  clear-day   \n",
       "\n",
       "    sunriseTime  sunsetTime  moonPhase  precipIntensity  precipIntensityMax  \\\n",
       "50   1550586900  1550626920       0.52           0.0002              0.0007   \n",
       "\n",
       "    precipIntensityMaxTime  precipProbability precipType  temperatureHigh  \\\n",
       "50              1550645640               0.05       rain             58.7   \n",
       "\n",
       "    temperatureHighTime  temperatureLow  temperatureLowTime  \\\n",
       "50           1550609040           44.39          1550657580   \n",
       "\n",
       "    apparentTemperatureHigh  apparentTemperatureHighTime  \\\n",
       "50                     58.2                   1550609040   \n",
       "\n",
       "    apparentTemperatureLow  apparentTemperatureLowTime  dewPoint  humidity  \\\n",
       "50                   42.07                  1550656980     27.86       0.4   \n",
       "\n",
       "    pressure  windSpeed  windGust  windGustTime  windBearing  cloudCover  \\\n",
       "50    1020.0       7.25     15.26    1550566860          295        0.02   \n",
       "\n",
       "    uvIndex  uvIndexTime  visibility  ozone  temperatureMin  \\\n",
       "50        5   1550606580        10.0  327.7           45.58   \n",
       "\n",
       "    temperatureMinTime  temperatureMax  temperatureMaxTime  \\\n",
       "50          1550587500            58.7          1550609040   \n",
       "\n",
       "    apparentTemperatureMin  apparentTemperatureMinTime  \\\n",
       "50                   42.24                  1550584080   \n",
       "\n",
       "    apparentTemperatureMax  apparentTemperatureMaxTime  season  month  avgtemp  \n",
       "50                    58.2                  1550609040       1      2    52.14  "
      ]
     },
     "execution_count": 31,
     "metadata": {},
     "output_type": "execute_result"
    }
   ],
   "source": [
    "LAX[LAX['date']== '2019-02-20']"
   ]
  },
  {
   "cell_type": "markdown",
   "metadata": {},
   "source": [
    "It seems that in LAX the sky was clear. There is no evidence of rain in either locations. My guess is there might have been weather delays in the Midwest. "
   ]
  },
  {
   "cell_type": "markdown",
   "metadata": {},
   "source": [
    "### 2019-06-20"
   ]
  },
  {
   "cell_type": "code",
   "execution_count": 33,
   "metadata": {},
   "outputs": [
    {
     "data": {
      "text/plain": [
       "OP_UNIQUE_CARRIER\n",
       "AS     3\n",
       "UA    12\n",
       "dtype: int64"
      ]
     },
     "execution_count": 33,
     "metadata": {},
     "output_type": "execute_result"
    }
   ],
   "source": [
    "EWR[(EWR['FL_DATE'] =='2019-06-20')].groupby(['OP_UNIQUE_CARRIER']).size()"
   ]
  },
  {
   "cell_type": "markdown",
   "metadata": {},
   "source": [
    "On this date there were only 15 flights that travel to LAX. It seems that Alaska Airlines only has 3 flights with destination to LAX.  "
   ]
  },
  {
   "cell_type": "code",
   "execution_count": 38,
   "metadata": {},
   "outputs": [
    {
     "data": {
      "text/plain": [
       "OP_UNIQUE_CARRIER\n",
       "UA    6\n",
       "dtype: int64"
      ]
     },
     "execution_count": 38,
     "metadata": {},
     "output_type": "execute_result"
    }
   ],
   "source": [
    "EWR[(EWR['FL_DATE'] =='2019-06-20') & (EWR['WEATHER_DELAY'] > 0)].groupby(['OP_UNIQUE_CARRIER']).size()"
   ]
  },
  {
   "cell_type": "code",
   "execution_count": 39,
   "metadata": {},
   "outputs": [
    {
     "data": {
      "text/html": [
       "<div>\n",
       "<style scoped>\n",
       "    .dataframe tbody tr th:only-of-type {\n",
       "        vertical-align: middle;\n",
       "    }\n",
       "\n",
       "    .dataframe tbody tr th {\n",
       "        vertical-align: top;\n",
       "    }\n",
       "\n",
       "    .dataframe thead tr th {\n",
       "        text-align: left;\n",
       "    }\n",
       "\n",
       "    .dataframe thead tr:last-of-type th {\n",
       "        text-align: right;\n",
       "    }\n",
       "</style>\n",
       "<table border=\"1\" class=\"dataframe\">\n",
       "  <thead>\n",
       "    <tr>\n",
       "      <th></th>\n",
       "      <th>WEATHER_DELAY</th>\n",
       "    </tr>\n",
       "    <tr>\n",
       "      <th></th>\n",
       "      <th>sum</th>\n",
       "    </tr>\n",
       "    <tr>\n",
       "      <th>OP_UNIQUE_CARRIER</th>\n",
       "      <th></th>\n",
       "    </tr>\n",
       "  </thead>\n",
       "  <tbody>\n",
       "    <tr>\n",
       "      <th>UA</th>\n",
       "      <td>210.0</td>\n",
       "    </tr>\n",
       "  </tbody>\n",
       "</table>\n",
       "</div>"
      ],
      "text/plain": [
       "                  WEATHER_DELAY\n",
       "                            sum\n",
       "OP_UNIQUE_CARRIER              \n",
       "UA                        210.0"
      ]
     },
     "execution_count": 39,
     "metadata": {},
     "output_type": "execute_result"
    }
   ],
   "source": [
    "EWR[(EWR['FL_DATE'] =='2019-06-20') & (EWR['WEATHER_DELAY'] > 0)].groupby(['OP_UNIQUE_CARRIER']).agg({'WEATHER_DELAY': ['sum']})"
   ]
  },
  {
   "cell_type": "markdown",
   "metadata": {},
   "source": [
    "It seems that United Airlines had a total of delay of 210 minutes of all the 6 flights. "
   ]
  },
  {
   "cell_type": "code",
   "execution_count": 41,
   "metadata": {},
   "outputs": [
    {
     "data": {
      "text/html": [
       "<div>\n",
       "<style scoped>\n",
       "    .dataframe tbody tr th:only-of-type {\n",
       "        vertical-align: middle;\n",
       "    }\n",
       "\n",
       "    .dataframe tbody tr th {\n",
       "        vertical-align: top;\n",
       "    }\n",
       "\n",
       "    .dataframe thead th {\n",
       "        text-align: right;\n",
       "    }\n",
       "</style>\n",
       "<table border=\"1\" class=\"dataframe\">\n",
       "  <thead>\n",
       "    <tr style=\"text-align: right;\">\n",
       "      <th></th>\n",
       "      <th>date</th>\n",
       "      <th>time</th>\n",
       "      <th>summary</th>\n",
       "      <th>icon</th>\n",
       "      <th>sunriseTime</th>\n",
       "      <th>sunsetTime</th>\n",
       "      <th>moonPhase</th>\n",
       "      <th>precipIntensity</th>\n",
       "      <th>precipIntensityMax</th>\n",
       "      <th>precipIntensityMaxTime</th>\n",
       "      <th>precipProbability</th>\n",
       "      <th>precipType</th>\n",
       "      <th>temperatureHigh</th>\n",
       "      <th>temperatureHighTime</th>\n",
       "      <th>temperatureLow</th>\n",
       "      <th>temperatureLowTime</th>\n",
       "      <th>apparentTemperatureHigh</th>\n",
       "      <th>apparentTemperatureHighTime</th>\n",
       "      <th>apparentTemperatureLow</th>\n",
       "      <th>apparentTemperatureLowTime</th>\n",
       "      <th>dewPoint</th>\n",
       "      <th>humidity</th>\n",
       "      <th>pressure</th>\n",
       "      <th>windSpeed</th>\n",
       "      <th>windGust</th>\n",
       "      <th>windGustTime</th>\n",
       "      <th>windBearing</th>\n",
       "      <th>cloudCover</th>\n",
       "      <th>uvIndex</th>\n",
       "      <th>uvIndexTime</th>\n",
       "      <th>visibility</th>\n",
       "      <th>ozone</th>\n",
       "      <th>temperatureMin</th>\n",
       "      <th>temperatureMinTime</th>\n",
       "      <th>temperatureMax</th>\n",
       "      <th>temperatureMaxTime</th>\n",
       "      <th>apparentTemperatureMin</th>\n",
       "      <th>apparentTemperatureMinTime</th>\n",
       "      <th>apparentTemperatureMax</th>\n",
       "      <th>apparentTemperatureMaxTime</th>\n",
       "      <th>precipAccumulation</th>\n",
       "      <th>season</th>\n",
       "      <th>month</th>\n",
       "      <th>avgtemp</th>\n",
       "    </tr>\n",
       "  </thead>\n",
       "  <tbody>\n",
       "    <tr>\n",
       "      <th>170</th>\n",
       "      <td>2019-06-20</td>\n",
       "      <td>1560916800</td>\n",
       "      <td>Rain throughout the day.</td>\n",
       "      <td>rain</td>\n",
       "      <td>1560936420</td>\n",
       "      <td>1560990720</td>\n",
       "      <td>0.59</td>\n",
       "      <td>0.0041</td>\n",
       "      <td>0.0567</td>\n",
       "      <td>1.560978e+09</td>\n",
       "      <td>0.95</td>\n",
       "      <td>rain</td>\n",
       "      <td>72.06</td>\n",
       "      <td>1560969540</td>\n",
       "      <td>65.63</td>\n",
       "      <td>1561026960</td>\n",
       "      <td>72.29</td>\n",
       "      <td>1560969960</td>\n",
       "      <td>67.13</td>\n",
       "      <td>1561026960</td>\n",
       "      <td>66.01</td>\n",
       "      <td>0.91</td>\n",
       "      <td>1010.4</td>\n",
       "      <td>5.18</td>\n",
       "      <td>8.81</td>\n",
       "      <td>1560964260</td>\n",
       "      <td>100</td>\n",
       "      <td>1.0</td>\n",
       "      <td>4</td>\n",
       "      <td>1560963300</td>\n",
       "      <td>5.503</td>\n",
       "      <td>329.4</td>\n",
       "      <td>65.82</td>\n",
       "      <td>1560997320</td>\n",
       "      <td>72.06</td>\n",
       "      <td>1560969540</td>\n",
       "      <td>67.32</td>\n",
       "      <td>1560997320</td>\n",
       "      <td>72.29</td>\n",
       "      <td>1560969960</td>\n",
       "      <td>0.0</td>\n",
       "      <td>4</td>\n",
       "      <td>6</td>\n",
       "      <td>68.94</td>\n",
       "    </tr>\n",
       "  </tbody>\n",
       "</table>\n",
       "</div>"
      ],
      "text/plain": [
       "          date        time                   summary  icon  sunriseTime  \\\n",
       "170 2019-06-20  1560916800  Rain throughout the day.  rain   1560936420   \n",
       "\n",
       "     sunsetTime  moonPhase  precipIntensity  precipIntensityMax  \\\n",
       "170  1560990720       0.59           0.0041              0.0567   \n",
       "\n",
       "     precipIntensityMaxTime  precipProbability precipType  temperatureHigh  \\\n",
       "170            1.560978e+09               0.95       rain            72.06   \n",
       "\n",
       "     temperatureHighTime  temperatureLow  temperatureLowTime  \\\n",
       "170           1560969540           65.63          1561026960   \n",
       "\n",
       "     apparentTemperatureHigh  apparentTemperatureHighTime  \\\n",
       "170                    72.29                   1560969960   \n",
       "\n",
       "     apparentTemperatureLow  apparentTemperatureLowTime  dewPoint  humidity  \\\n",
       "170                   67.13                  1561026960     66.01      0.91   \n",
       "\n",
       "     pressure  windSpeed  windGust  windGustTime  windBearing  cloudCover  \\\n",
       "170    1010.4       5.18      8.81    1560964260          100         1.0   \n",
       "\n",
       "     uvIndex  uvIndexTime  visibility  ozone  temperatureMin  \\\n",
       "170        4   1560963300       5.503  329.4           65.82   \n",
       "\n",
       "     temperatureMinTime  temperatureMax  temperatureMaxTime  \\\n",
       "170          1560997320           72.06          1560969540   \n",
       "\n",
       "     apparentTemperatureMin  apparentTemperatureMinTime  \\\n",
       "170                   67.32                  1560997320   \n",
       "\n",
       "     apparentTemperatureMax  apparentTemperatureMaxTime  precipAccumulation  \\\n",
       "170                   72.29                  1560969960                 0.0   \n",
       "\n",
       "    season  month  avgtemp  \n",
       "170      4      6    68.94  "
      ]
     },
     "execution_count": 41,
     "metadata": {},
     "output_type": "execute_result"
    }
   ],
   "source": [
    "df[df['date']== '2019-06-20']"
   ]
  },
  {
   "cell_type": "markdown",
   "metadata": {},
   "source": [
    "According to the weather data of EWR, it shows that on June 20,2019 it rained throughout the day. There was a 95% chance of rain with low visibity of 5.5 miles. In addition, cloud coverage is at its full with 100% of sky coveraged."
   ]
  },
  {
   "cell_type": "markdown",
   "metadata": {},
   "source": [
    "### 2019-12-01"
   ]
  },
  {
   "cell_type": "code",
   "execution_count": 45,
   "metadata": {},
   "outputs": [
    {
     "data": {
      "text/plain": [
       "OP_UNIQUE_CARRIER\n",
       "AS     2\n",
       "UA    14\n",
       "dtype: int64"
      ]
     },
     "execution_count": 45,
     "metadata": {},
     "output_type": "execute_result"
    }
   ],
   "source": [
    "EWR[(EWR['FL_DATE'] =='2019-12-01')].groupby(['OP_UNIQUE_CARRIER']).size()"
   ]
  },
  {
   "cell_type": "markdown",
   "metadata": {},
   "source": [
    "On this date EWR had a total of 16 flights traveling to LAX. Out of all the 16 flights only 6 of the flights were delayed. "
   ]
  },
  {
   "cell_type": "code",
   "execution_count": 46,
   "metadata": {},
   "outputs": [
    {
     "data": {
      "text/plain": [
       "OP_UNIQUE_CARRIER\n",
       "UA    6\n",
       "dtype: int64"
      ]
     },
     "execution_count": 46,
     "metadata": {},
     "output_type": "execute_result"
    }
   ],
   "source": [
    "EWR[(EWR['FL_DATE'] =='2019-12-01') & (EWR['WEATHER_DELAY'] > 0)].groupby(['OP_UNIQUE_CARRIER']).size()"
   ]
  },
  {
   "cell_type": "code",
   "execution_count": 47,
   "metadata": {},
   "outputs": [
    {
     "data": {
      "text/html": [
       "<div>\n",
       "<style scoped>\n",
       "    .dataframe tbody tr th:only-of-type {\n",
       "        vertical-align: middle;\n",
       "    }\n",
       "\n",
       "    .dataframe tbody tr th {\n",
       "        vertical-align: top;\n",
       "    }\n",
       "\n",
       "    .dataframe thead tr th {\n",
       "        text-align: left;\n",
       "    }\n",
       "\n",
       "    .dataframe thead tr:last-of-type th {\n",
       "        text-align: right;\n",
       "    }\n",
       "</style>\n",
       "<table border=\"1\" class=\"dataframe\">\n",
       "  <thead>\n",
       "    <tr>\n",
       "      <th></th>\n",
       "      <th>WEATHER_DELAY</th>\n",
       "    </tr>\n",
       "    <tr>\n",
       "      <th></th>\n",
       "      <th>sum</th>\n",
       "    </tr>\n",
       "    <tr>\n",
       "      <th>OP_UNIQUE_CARRIER</th>\n",
       "      <th></th>\n",
       "    </tr>\n",
       "  </thead>\n",
       "  <tbody>\n",
       "    <tr>\n",
       "      <th>UA</th>\n",
       "      <td>162.0</td>\n",
       "    </tr>\n",
       "  </tbody>\n",
       "</table>\n",
       "</div>"
      ],
      "text/plain": [
       "                  WEATHER_DELAY\n",
       "                            sum\n",
       "OP_UNIQUE_CARRIER              \n",
       "UA                        162.0"
      ]
     },
     "execution_count": 47,
     "metadata": {},
     "output_type": "execute_result"
    }
   ],
   "source": [
    "EWR[(EWR['FL_DATE'] =='2019-12-01') & (EWR['WEATHER_DELAY'] > 0)].groupby(['OP_UNIQUE_CARRIER']).agg({'WEATHER_DELAY': ['sum']})"
   ]
  },
  {
   "cell_type": "markdown",
   "metadata": {},
   "source": [
    "The 6 flights that were delayed in EWR were delayed a total of 162 minutes. "
   ]
  },
  {
   "cell_type": "code",
   "execution_count": 48,
   "metadata": {
    "scrolled": true
   },
   "outputs": [
    {
     "data": {
      "text/html": [
       "<div>\n",
       "<style scoped>\n",
       "    .dataframe tbody tr th:only-of-type {\n",
       "        vertical-align: middle;\n",
       "    }\n",
       "\n",
       "    .dataframe tbody tr th {\n",
       "        vertical-align: top;\n",
       "    }\n",
       "\n",
       "    .dataframe thead th {\n",
       "        text-align: right;\n",
       "    }\n",
       "</style>\n",
       "<table border=\"1\" class=\"dataframe\">\n",
       "  <thead>\n",
       "    <tr style=\"text-align: right;\">\n",
       "      <th></th>\n",
       "      <th>date</th>\n",
       "      <th>time</th>\n",
       "      <th>summary</th>\n",
       "      <th>icon</th>\n",
       "      <th>sunriseTime</th>\n",
       "      <th>sunsetTime</th>\n",
       "      <th>moonPhase</th>\n",
       "      <th>precipIntensity</th>\n",
       "      <th>precipIntensityMax</th>\n",
       "      <th>precipIntensityMaxTime</th>\n",
       "      <th>precipProbability</th>\n",
       "      <th>precipType</th>\n",
       "      <th>temperatureHigh</th>\n",
       "      <th>temperatureHighTime</th>\n",
       "      <th>temperatureLow</th>\n",
       "      <th>temperatureLowTime</th>\n",
       "      <th>apparentTemperatureHigh</th>\n",
       "      <th>apparentTemperatureHighTime</th>\n",
       "      <th>apparentTemperatureLow</th>\n",
       "      <th>apparentTemperatureLowTime</th>\n",
       "      <th>dewPoint</th>\n",
       "      <th>humidity</th>\n",
       "      <th>pressure</th>\n",
       "      <th>windSpeed</th>\n",
       "      <th>windGust</th>\n",
       "      <th>windGustTime</th>\n",
       "      <th>windBearing</th>\n",
       "      <th>cloudCover</th>\n",
       "      <th>uvIndex</th>\n",
       "      <th>uvIndexTime</th>\n",
       "      <th>visibility</th>\n",
       "      <th>ozone</th>\n",
       "      <th>temperatureMin</th>\n",
       "      <th>temperatureMinTime</th>\n",
       "      <th>temperatureMax</th>\n",
       "      <th>temperatureMaxTime</th>\n",
       "      <th>apparentTemperatureMin</th>\n",
       "      <th>apparentTemperatureMinTime</th>\n",
       "      <th>apparentTemperatureMax</th>\n",
       "      <th>apparentTemperatureMaxTime</th>\n",
       "      <th>precipAccumulation</th>\n",
       "      <th>season</th>\n",
       "      <th>month</th>\n",
       "      <th>avgtemp</th>\n",
       "    </tr>\n",
       "  </thead>\n",
       "  <tbody>\n",
       "    <tr>\n",
       "      <th>334</th>\n",
       "      <td>2019-12-01</td>\n",
       "      <td>1575090000</td>\n",
       "      <td>Partly cloudy throughout the day.</td>\n",
       "      <td>partly-cloudy-day</td>\n",
       "      <td>1575115320</td>\n",
       "      <td>1575149520</td>\n",
       "      <td>0.15</td>\n",
       "      <td>0.0</td>\n",
       "      <td>0.0003</td>\n",
       "      <td>1.575173e+09</td>\n",
       "      <td>0.06</td>\n",
       "      <td>NaN</td>\n",
       "      <td>45.18</td>\n",
       "      <td>1575142680</td>\n",
       "      <td>27.94</td>\n",
       "      <td>1575204060</td>\n",
       "      <td>42.08</td>\n",
       "      <td>1575140520</td>\n",
       "      <td>18.62</td>\n",
       "      <td>1575202020</td>\n",
       "      <td>15.45</td>\n",
       "      <td>0.43</td>\n",
       "      <td>1017.7</td>\n",
       "      <td>8.3</td>\n",
       "      <td>13.97</td>\n",
       "      <td>1575112980</td>\n",
       "      <td>349</td>\n",
       "      <td>0.56</td>\n",
       "      <td>2</td>\n",
       "      <td>1575132300</td>\n",
       "      <td>10.0</td>\n",
       "      <td>341.7</td>\n",
       "      <td>29.74</td>\n",
       "      <td>1575115200</td>\n",
       "      <td>45.18</td>\n",
       "      <td>1575142680</td>\n",
       "      <td>19.84</td>\n",
       "      <td>1575115080</td>\n",
       "      <td>42.08</td>\n",
       "      <td>1575140520</td>\n",
       "      <td>0.0</td>\n",
       "      <td>2</td>\n",
       "      <td>12</td>\n",
       "      <td>37.46</td>\n",
       "    </tr>\n",
       "  </tbody>\n",
       "</table>\n",
       "</div>"
      ],
      "text/plain": [
       "          date        time                            summary  \\\n",
       "334 2019-12-01  1575090000  Partly cloudy throughout the day.   \n",
       "\n",
       "                  icon  sunriseTime  sunsetTime  moonPhase  precipIntensity  \\\n",
       "334  partly-cloudy-day   1575115320  1575149520       0.15              0.0   \n",
       "\n",
       "     precipIntensityMax  precipIntensityMaxTime  precipProbability precipType  \\\n",
       "334              0.0003            1.575173e+09               0.06        NaN   \n",
       "\n",
       "     temperatureHigh  temperatureHighTime  temperatureLow  temperatureLowTime  \\\n",
       "334            45.18           1575142680           27.94          1575204060   \n",
       "\n",
       "     apparentTemperatureHigh  apparentTemperatureHighTime  \\\n",
       "334                    42.08                   1575140520   \n",
       "\n",
       "     apparentTemperatureLow  apparentTemperatureLowTime  dewPoint  humidity  \\\n",
       "334                   18.62                  1575202020     15.45      0.43   \n",
       "\n",
       "     pressure  windSpeed  windGust  windGustTime  windBearing  cloudCover  \\\n",
       "334    1017.7        8.3     13.97    1575112980          349        0.56   \n",
       "\n",
       "     uvIndex  uvIndexTime  visibility  ozone  temperatureMin  \\\n",
       "334        2   1575132300        10.0  341.7           29.74   \n",
       "\n",
       "     temperatureMinTime  temperatureMax  temperatureMaxTime  \\\n",
       "334          1575115200           45.18          1575142680   \n",
       "\n",
       "     apparentTemperatureMin  apparentTemperatureMinTime  \\\n",
       "334                   19.84                  1575115080   \n",
       "\n",
       "     apparentTemperatureMax  apparentTemperatureMaxTime  precipAccumulation  \\\n",
       "334                   42.08                  1575140520                 0.0   \n",
       "\n",
       "    season  month  avgtemp  \n",
       "334      2     12    37.46  "
      ]
     },
     "execution_count": 48,
     "metadata": {},
     "output_type": "execute_result"
    }
   ],
   "source": [
    "df[df['date']== '2019-12-01']"
   ]
  },
  {
   "cell_type": "markdown",
   "metadata": {},
   "source": [
    "On this date in EWR there was low chance of precipitation with low cloud coverage. It seems that the flights were not delayed on this date because of rain or cloudy skys. Lets look into the weather of the destination, there is a chance the weather delay could be in LAX."
   ]
  },
  {
   "cell_type": "code",
   "execution_count": 49,
   "metadata": {},
   "outputs": [
    {
     "data": {
      "text/html": [
       "<div>\n",
       "<style scoped>\n",
       "    .dataframe tbody tr th:only-of-type {\n",
       "        vertical-align: middle;\n",
       "    }\n",
       "\n",
       "    .dataframe tbody tr th {\n",
       "        vertical-align: top;\n",
       "    }\n",
       "\n",
       "    .dataframe thead th {\n",
       "        text-align: right;\n",
       "    }\n",
       "</style>\n",
       "<table border=\"1\" class=\"dataframe\">\n",
       "  <thead>\n",
       "    <tr style=\"text-align: right;\">\n",
       "      <th></th>\n",
       "      <th>Unnamed: 0</th>\n",
       "      <th>date</th>\n",
       "      <th>time</th>\n",
       "      <th>summary</th>\n",
       "      <th>icon</th>\n",
       "      <th>sunriseTime</th>\n",
       "      <th>sunsetTime</th>\n",
       "      <th>moonPhase</th>\n",
       "      <th>precipIntensity</th>\n",
       "      <th>precipIntensityMax</th>\n",
       "      <th>precipIntensityMaxTime</th>\n",
       "      <th>precipProbability</th>\n",
       "      <th>precipType</th>\n",
       "      <th>temperatureHigh</th>\n",
       "      <th>temperatureHighTime</th>\n",
       "      <th>temperatureLow</th>\n",
       "      <th>temperatureLowTime</th>\n",
       "      <th>apparentTemperatureHigh</th>\n",
       "      <th>apparentTemperatureHighTime</th>\n",
       "      <th>apparentTemperatureLow</th>\n",
       "      <th>apparentTemperatureLowTime</th>\n",
       "      <th>dewPoint</th>\n",
       "      <th>humidity</th>\n",
       "      <th>pressure</th>\n",
       "      <th>windSpeed</th>\n",
       "      <th>windGust</th>\n",
       "      <th>windGustTime</th>\n",
       "      <th>windBearing</th>\n",
       "      <th>cloudCover</th>\n",
       "      <th>uvIndex</th>\n",
       "      <th>uvIndexTime</th>\n",
       "      <th>visibility</th>\n",
       "      <th>ozone</th>\n",
       "      <th>temperatureMin</th>\n",
       "      <th>temperatureMinTime</th>\n",
       "      <th>temperatureMax</th>\n",
       "      <th>temperatureMaxTime</th>\n",
       "      <th>apparentTemperatureMin</th>\n",
       "      <th>apparentTemperatureMinTime</th>\n",
       "      <th>apparentTemperatureMax</th>\n",
       "      <th>apparentTemperatureMaxTime</th>\n",
       "      <th>season</th>\n",
       "      <th>month</th>\n",
       "      <th>avgtemp</th>\n",
       "    </tr>\n",
       "  </thead>\n",
       "  <tbody>\n",
       "    <tr>\n",
       "      <th>50</th>\n",
       "      <td>50</td>\n",
       "      <td>2019-02-20</td>\n",
       "      <td>1550563200</td>\n",
       "      <td>Clear throughout the day.</td>\n",
       "      <td>clear-day</td>\n",
       "      <td>1550586900</td>\n",
       "      <td>1550626920</td>\n",
       "      <td>0.52</td>\n",
       "      <td>0.0002</td>\n",
       "      <td>0.0007</td>\n",
       "      <td>1550645640</td>\n",
       "      <td>0.05</td>\n",
       "      <td>rain</td>\n",
       "      <td>58.7</td>\n",
       "      <td>1550609040</td>\n",
       "      <td>44.39</td>\n",
       "      <td>1550657580</td>\n",
       "      <td>58.2</td>\n",
       "      <td>1550609040</td>\n",
       "      <td>42.07</td>\n",
       "      <td>1550656980</td>\n",
       "      <td>27.86</td>\n",
       "      <td>0.4</td>\n",
       "      <td>1020.0</td>\n",
       "      <td>7.25</td>\n",
       "      <td>15.26</td>\n",
       "      <td>1550566860</td>\n",
       "      <td>295</td>\n",
       "      <td>0.02</td>\n",
       "      <td>5</td>\n",
       "      <td>1550606580</td>\n",
       "      <td>10.0</td>\n",
       "      <td>327.7</td>\n",
       "      <td>45.58</td>\n",
       "      <td>1550587500</td>\n",
       "      <td>58.7</td>\n",
       "      <td>1550609040</td>\n",
       "      <td>42.24</td>\n",
       "      <td>1550584080</td>\n",
       "      <td>58.2</td>\n",
       "      <td>1550609040</td>\n",
       "      <td>1</td>\n",
       "      <td>2</td>\n",
       "      <td>52.14</td>\n",
       "    </tr>\n",
       "  </tbody>\n",
       "</table>\n",
       "</div>"
      ],
      "text/plain": [
       "    Unnamed: 0        date        time                    summary       icon  \\\n",
       "50          50  2019-02-20  1550563200  Clear throughout the day.  clear-day   \n",
       "\n",
       "    sunriseTime  sunsetTime  moonPhase  precipIntensity  precipIntensityMax  \\\n",
       "50   1550586900  1550626920       0.52           0.0002              0.0007   \n",
       "\n",
       "    precipIntensityMaxTime  precipProbability precipType  temperatureHigh  \\\n",
       "50              1550645640               0.05       rain             58.7   \n",
       "\n",
       "    temperatureHighTime  temperatureLow  temperatureLowTime  \\\n",
       "50           1550609040           44.39          1550657580   \n",
       "\n",
       "    apparentTemperatureHigh  apparentTemperatureHighTime  \\\n",
       "50                     58.2                   1550609040   \n",
       "\n",
       "    apparentTemperatureLow  apparentTemperatureLowTime  dewPoint  humidity  \\\n",
       "50                   42.07                  1550656980     27.86       0.4   \n",
       "\n",
       "    pressure  windSpeed  windGust  windGustTime  windBearing  cloudCover  \\\n",
       "50    1020.0       7.25     15.26    1550566860          295        0.02   \n",
       "\n",
       "    uvIndex  uvIndexTime  visibility  ozone  temperatureMin  \\\n",
       "50        5   1550606580        10.0  327.7           45.58   \n",
       "\n",
       "    temperatureMinTime  temperatureMax  temperatureMaxTime  \\\n",
       "50          1550587500            58.7          1550609040   \n",
       "\n",
       "    apparentTemperatureMin  apparentTemperatureMinTime  \\\n",
       "50                   42.24                  1550584080   \n",
       "\n",
       "    apparentTemperatureMax  apparentTemperatureMaxTime  season  month  avgtemp  \n",
       "50                    58.2                  1550609040       1      2    52.14  "
      ]
     },
     "execution_count": 49,
     "metadata": {},
     "output_type": "execute_result"
    }
   ],
   "source": [
    "LAX[LAX['date']== '2019-02-20']"
   ]
  },
  {
   "cell_type": "markdown",
   "metadata": {},
   "source": [
    "According to the weather in LAX, the delay does not seem to be because of the destination. In Los Angeles, there was clear skies and low chance of rain. I would infer that the delay in weather might be because of the states' in between the two location. The Midwest may have serious weather conditions in which affect the delay of the flights. "
   ]
  }
 ],
 "metadata": {
  "kernelspec": {
   "display_name": "Python 3",
   "language": "python",
   "name": "python3"
  },
  "language_info": {
   "codemirror_mode": {
    "name": "ipython",
    "version": 3
   },
   "file_extension": ".py",
   "mimetype": "text/x-python",
   "name": "python",
   "nbconvert_exporter": "python",
   "pygments_lexer": "ipython3",
   "version": "3.7.4"
  },
  "toc": {
   "base_numbering": 1,
   "nav_menu": {},
   "number_sections": true,
   "sideBar": true,
   "skip_h1_title": false,
   "title_cell": "Table of Contents",
   "title_sidebar": "Contents",
   "toc_cell": false,
   "toc_position": {},
   "toc_section_display": true,
   "toc_window_display": false
  },
  "varInspector": {
   "cols": {
    "lenName": 16,
    "lenType": 16,
    "lenVar": 40
   },
   "kernels_config": {
    "python": {
     "delete_cmd_postfix": "",
     "delete_cmd_prefix": "del ",
     "library": "var_list.py",
     "varRefreshCmd": "print(var_dic_list())"
    },
    "r": {
     "delete_cmd_postfix": ") ",
     "delete_cmd_prefix": "rm(",
     "library": "var_list.r",
     "varRefreshCmd": "cat(var_dic_list()) "
    }
   },
   "types_to_exclude": [
    "module",
    "function",
    "builtin_function_or_method",
    "instance",
    "_Feature"
   ],
   "window_display": false
  }
 },
 "nbformat": 4,
 "nbformat_minor": 2
}
