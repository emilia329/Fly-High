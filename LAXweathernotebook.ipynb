{
 "cells": [
  {
   "cell_type": "code",
   "execution_count": 14,
   "metadata": {},
   "outputs": [],
   "source": [
    "import matplotlib.pyplot as plt\n",
    "from statsmodels.formula.api import ols\n",
    "import statsmodels.api as sm\n",
    "from statsmodels.stats import weightstats as stests\n",
    "from statsmodels.stats.multicomp import pairwise_tukeyhsd\n",
    "from statsmodels.stats.multicomp import MultiComparison\n",
    "import pandas as pd\n",
    "import numpy as np\n",
    "import warnings\n",
    "warnings.simplefilter('ignore')\n",
    "%run -i 'functions.py'"
   ]
  },
  {
   "cell_type": "markdown",
   "metadata": {},
   "source": [
    "# LAX Weather in 2019"
   ]
  },
  {
   "cell_type": "code",
   "execution_count": 2,
   "metadata": {},
   "outputs": [],
   "source": [
    "pd.set_option('display.max_columns', None)\n",
    "df= pd.read_csv('laxweather.csv')"
   ]
  },
  {
   "cell_type": "markdown",
   "metadata": {},
   "source": [
    "We are cleaning and organizing the data to have a column in datetime to have a legible dataset for visuals and models. "
   ]
  },
  {
   "cell_type": "markdown",
   "metadata": {},
   "source": [
    "## Cleaning the dataset"
   ]
  },
  {
   "cell_type": "code",
   "execution_count": 3,
   "metadata": {},
   "outputs": [],
   "source": [
    "df['date']= pd.date_range(start='1/1/2019', end='12/31/2019')"
   ]
  },
  {
   "cell_type": "code",
   "execution_count": 4,
   "metadata": {},
   "outputs": [],
   "source": [
    "df['date'] = pd.to_datetime(df['date'])"
   ]
  },
  {
   "cell_type": "code",
   "execution_count": 5,
   "metadata": {},
   "outputs": [],
   "source": [
    "cols = list(df.columns)\n",
    "cols = [cols[-1]] + cols[:-1]\n",
    "df = df[cols]"
   ]
  },
  {
   "cell_type": "code",
   "execution_count": 6,
   "metadata": {},
   "outputs": [],
   "source": [
    "df['season'] = df.date.map(season_of_date)"
   ]
  },
  {
   "cell_type": "code",
   "execution_count": 7,
   "metadata": {},
   "outputs": [],
   "source": [
    "df['month'] = df['date'].dt.month"
   ]
  },
  {
   "cell_type": "code",
   "execution_count": 8,
   "metadata": {},
   "outputs": [],
   "source": [
    "df['date'] = pd.to_datetime(df['date'])"
   ]
  },
  {
   "cell_type": "markdown",
   "metadata": {},
   "source": [
    "Unlike the JFK and EWR dataset there is no column for 'PrecipAccumulation' as it does not snow in Los Angeles."
   ]
  },
  {
   "cell_type": "code",
   "execution_count": 9,
   "metadata": {
    "scrolled": true
   },
   "outputs": [
    {
     "data": {
      "text/plain": [
       "partly-cloudy-day    162\n",
       "clear-day            134\n",
       "rain                  62\n",
       "cloudy                 7\n",
       "Name: icon, dtype: int64"
      ]
     },
     "execution_count": 9,
     "metadata": {},
     "output_type": "execute_result"
    }
   ],
   "source": [
    "df['icon'].value_counts()"
   ]
  },
  {
   "cell_type": "code",
   "execution_count": 10,
   "metadata": {},
   "outputs": [],
   "source": [
    "df.to_csv('cleanLAXweather.csv')"
   ]
  },
  {
   "cell_type": "markdown",
   "metadata": {},
   "source": [
    "# Visuals"
   ]
  },
  {
   "cell_type": "markdown",
   "metadata": {},
   "source": [
    "### Precipitaion"
   ]
  },
  {
   "cell_type": "code",
   "execution_count": 11,
   "metadata": {},
   "outputs": [
    {
     "data": {
      "text/html": [
       "<div>\n",
       "<style scoped>\n",
       "    .dataframe tbody tr th:only-of-type {\n",
       "        vertical-align: middle;\n",
       "    }\n",
       "\n",
       "    .dataframe tbody tr th {\n",
       "        vertical-align: top;\n",
       "    }\n",
       "\n",
       "    .dataframe thead tr th {\n",
       "        text-align: left;\n",
       "    }\n",
       "\n",
       "    .dataframe thead tr:last-of-type th {\n",
       "        text-align: right;\n",
       "    }\n",
       "</style>\n",
       "<table border=\"1\" class=\"dataframe\">\n",
       "  <thead>\n",
       "    <tr>\n",
       "      <th></th>\n",
       "      <th>precipProbability</th>\n",
       "    </tr>\n",
       "    <tr>\n",
       "      <th></th>\n",
       "      <th>mean</th>\n",
       "    </tr>\n",
       "    <tr>\n",
       "      <th>season</th>\n",
       "      <th></th>\n",
       "    </tr>\n",
       "  </thead>\n",
       "  <tbody>\n",
       "    <tr>\n",
       "      <th>1</th>\n",
       "      <td>0.377111</td>\n",
       "    </tr>\n",
       "    <tr>\n",
       "      <th>2</th>\n",
       "      <td>0.156854</td>\n",
       "    </tr>\n",
       "    <tr>\n",
       "      <th>3</th>\n",
       "      <td>0.065532</td>\n",
       "    </tr>\n",
       "    <tr>\n",
       "      <th>4</th>\n",
       "      <td>0.158043</td>\n",
       "    </tr>\n",
       "  </tbody>\n",
       "</table>\n",
       "</div>"
      ],
      "text/plain": [
       "       precipProbability\n",
       "                    mean\n",
       "season                  \n",
       "1               0.377111\n",
       "2               0.156854\n",
       "3               0.065532\n",
       "4               0.158043"
      ]
     },
     "execution_count": 11,
     "metadata": {},
     "output_type": "execute_result"
    }
   ],
   "source": [
    "rain = df.groupby('season').agg({'precipProbability': ['mean']})\n",
    "rain"
   ]
  },
  {
   "cell_type": "code",
   "execution_count": 12,
   "metadata": {
    "scrolled": true
   },
   "outputs": [
    {
     "data": {
      "image/png": "[encoded data removed]",
      "text/plain": [
       "<Figure size 432x288 with 1 Axes>"
      ]
     },
     "metadata": {
      "needs_background": "light"
     },
     "output_type": "display_data"
    }
   ],
   "source": [
    "avgrain(rain)"
   ]
  },
  {
   "cell_type": "markdown",
   "metadata": {},
   "source": [
    " Los Angeles climate is categorized as a Mediterranean climate indicated seasons changes in rainfall. According to the visual we can see there is a higher chance of rain in the Winter season. This is because winter is wet season in Southern California and therefore summers are dry and wet winters.."
   ]
  },
  {
   "cell_type": "markdown",
   "metadata": {},
   "source": [
    "#### ANOVA"
   ]
  },
  {
   "cell_type": "code",
   "execution_count": 17,
   "metadata": {
    "scrolled": true
   },
   "outputs": [
    {
     "data": {
      "text/plain": [
       "<matplotlib.axes._subplots.AxesSubplot at 0x128d80210>"
      ]
     },
     "execution_count": 17,
     "metadata": {},
     "output_type": "execute_result"
    },
    {
     "data": {
      "image/png": "[encoded data removed]",
      "text/plain": [
       "<Figure size 576x360 with 1 Axes>"
      ]
     },
     "metadata": {
      "needs_background": "light"
     },
     "output_type": "display_data"
    }
   ],
   "source": [
    "df.boxplot('precipProbability', by='season', figsize=(8, 5))"
   ]
  },
  {
   "cell_type": "markdown",
   "metadata": {},
   "source": [
    "- Ha : There is no statistically significant difference in chance of precipitaton from the four seasons.\n",
    "- Ho : There statistically significant difference in chance of precipitaton from the four seasons."
   ]
  },
  {
   "cell_type": "code",
   "execution_count": 15,
   "metadata": {
    "scrolled": false
   },
   "outputs": [
    {
     "name": "stdout",
     "output_type": "stream",
     "text": [
      "             df     sum_sq   mean_sq          F        PR(>F)\n",
      "season      3.0   4.797420  1.599140  24.037164  3.326364e-14\n",
      "Residual  361.0  24.016539  0.066528        NaN           NaN\n",
      "Multiple Comparison of Means - Tukey HSD, FWER=0.05 \n",
      "====================================================\n",
      "group1 group2 meandiff p-adj   lower   upper  reject\n",
      "----------------------------------------------------\n",
      "     1      2  -0.2203  0.001 -0.3198 -0.1207   True\n",
      "     1      3  -0.3116  0.001 -0.4098 -0.2134   True\n",
      "     1      4  -0.2191  0.001 -0.3178 -0.1204   True\n",
      "     2      3  -0.0913 0.0802 -0.1898  0.0071  False\n",
      "     2      4   0.0012    0.9 -0.0978  0.1002  False\n",
      "     3      4   0.0925 0.0707 -0.0051  0.1901  False\n",
      "----------------------------------------------------\n"
     ]
    }
   ],
   "source": [
    "anova(df)"
   ]
  },
  {
   "cell_type": "markdown",
   "metadata": {},
   "source": [
    "According to the results we can see the pvalue for the ANOVA test is less than our alpha of 0.05 therefore we can conclude there is a significant difference between the probability of precipitaion in seasons. We conduct a Tukey multiple pairwise- comparison to identify where the difference occurs. \n",
    "\n",
    "\n",
    "Looking at each season we can see there was no statistically signifance difference in comparing autumn with spring and summmer, along with comparing spring and summer. Therefore we can assume there is not enough evidence to compare autumn with spring and summer. When comparing winter with the other seasons there is statistical significance therefore thee result is not attributed by chance."
   ]
  },
  {
   "cell_type": "markdown",
   "metadata": {},
   "source": [
    "### Temperature"
   ]
  },
  {
   "cell_type": "code",
   "execution_count": 16,
   "metadata": {},
   "outputs": [],
   "source": [
    "df['avgtemp']= df[['temperatureMax','temperatureMin']].mean(axis=1)"
   ]
  },
  {
   "cell_type": "code",
   "execution_count": 17,
   "metadata": {},
   "outputs": [
    {
     "data": {
      "text/html": [
       "<div>\n",
       "<style scoped>\n",
       "    .dataframe tbody tr th:only-of-type {\n",
       "        vertical-align: middle;\n",
       "    }\n",
       "\n",
       "    .dataframe tbody tr th {\n",
       "        vertical-align: top;\n",
       "    }\n",
       "\n",
       "    .dataframe thead tr th {\n",
       "        text-align: left;\n",
       "    }\n",
       "\n",
       "    .dataframe thead tr:last-of-type th {\n",
       "        text-align: right;\n",
       "    }\n",
       "</style>\n",
       "<table border=\"1\" class=\"dataframe\">\n",
       "  <thead>\n",
       "    <tr>\n",
       "      <th></th>\n",
       "      <th>avgtemp</th>\n",
       "    </tr>\n",
       "    <tr>\n",
       "      <th></th>\n",
       "      <th>mean</th>\n",
       "    </tr>\n",
       "    <tr>\n",
       "      <th>season</th>\n",
       "      <th></th>\n",
       "    </tr>\n",
       "  </thead>\n",
       "  <tbody>\n",
       "    <tr>\n",
       "      <th>1</th>\n",
       "      <td>57.080889</td>\n",
       "    </tr>\n",
       "    <tr>\n",
       "      <th>2</th>\n",
       "      <td>65.383820</td>\n",
       "    </tr>\n",
       "    <tr>\n",
       "      <th>3</th>\n",
       "      <td>70.158085</td>\n",
       "    </tr>\n",
       "    <tr>\n",
       "      <th>4</th>\n",
       "      <td>62.578913</td>\n",
       "    </tr>\n",
       "  </tbody>\n",
       "</table>\n",
       "</div>"
      ],
      "text/plain": [
       "          avgtemp\n",
       "             mean\n",
       "season           \n",
       "1       57.080889\n",
       "2       65.383820\n",
       "3       70.158085\n",
       "4       62.578913"
      ]
     },
     "execution_count": 17,
     "metadata": {},
     "output_type": "execute_result"
    }
   ],
   "source": [
    "temp = df.groupby('season').agg({'avgtemp': ['mean']})\n",
    "temp"
   ]
  },
  {
   "cell_type": "code",
   "execution_count": 18,
   "metadata": {
    "scrolled": true
   },
   "outputs": [
    {
     "data": {
      "image/png": "[encoded data removed]",
      "text/plain": [
       "<Figure size 432x288 with 1 Axes>"
      ]
     },
     "metadata": {
      "needs_background": "light"
     },
     "output_type": "display_data"
    }
   ],
   "source": [
    "avgtemp(temp)"
   ]
  },
  {
   "cell_type": "markdown",
   "metadata": {},
   "source": [
    "Interesting enough because of Los Angeles climate we can see the average temperate never reaches freezing due to is Mediterranean climate."
   ]
  },
  {
   "cell_type": "markdown",
   "metadata": {},
   "source": [
    "# Analysis of Weather Delays"
   ]
  },
  {
   "cell_type": "markdown",
   "metadata": {},
   "source": [
    "Based on our LAX notebook, I have identified the dates with the longest delays due to weather. As we can see from the chance of precipitation visual, it mainly only rains in the winter. With the information I have deicided to only idenfity the top 3 flight dates since there are very few delays due to weather. "
   ]
  },
  {
   "cell_type": "code",
   "execution_count": 28,
   "metadata": {},
   "outputs": [],
   "source": [
    "airport= pd.read_csv('final1.csv')\n",
    "airport.drop(['Unnamed: 0'],axis=1,inplace=True)\n",
    "LAX = airport[airport['ORIGIN_STATE_ABR'] == 'CA']"
   ]
  },
  {
   "cell_type": "code",
   "execution_count": 29,
   "metadata": {},
   "outputs": [
    {
     "data": {
      "text/plain": [
       "FL_DATE\n",
       "2019-01-31    2\n",
       "2019-12-03    2\n",
       "2019-01-06    1\n",
       "dtype: int64"
      ]
     },
     "execution_count": 29,
     "metadata": {},
     "output_type": "execute_result"
    }
   ],
   "source": [
    "LAX[LAX['WEATHER_DELAY'] > 0].groupby(['FL_DATE']).size().nlargest(3)"
   ]
  },
  {
   "cell_type": "markdown",
   "metadata": {},
   "source": [
    "### 2019-01-31"
   ]
  },
  {
   "cell_type": "code",
   "execution_count": 34,
   "metadata": {
    "scrolled": true
   },
   "outputs": [
    {
     "data": {
      "text/plain": [
       "OP_UNIQUE_CARRIER\n",
       "AA    13\n",
       "AS     8\n",
       "B6    10\n",
       "DL    10\n",
       "UA     8\n",
       "dtype: int64"
      ]
     },
     "execution_count": 34,
     "metadata": {},
     "output_type": "execute_result"
    }
   ],
   "source": [
    "LAX[(LAX['FL_DATE'] =='2019-01-31')].groupby(['OP_UNIQUE_CARRIER']).size()"
   ]
  },
  {
   "cell_type": "markdown",
   "metadata": {},
   "source": [
    "There were a total of 49 flights traveling form LAX to JFK and EWR. Out of all the flights only two flights were delayed because of weather conditions. It is also the most flights delayed in 2019 because of weather indicating LAX has few delays because of weather."
   ]
  },
  {
   "cell_type": "code",
   "execution_count": 33,
   "metadata": {
    "scrolled": true
   },
   "outputs": [
    {
     "data": {
      "text/plain": [
       "OP_UNIQUE_CARRIER\n",
       "DL    2\n",
       "dtype: int64"
      ]
     },
     "execution_count": 33,
     "metadata": {},
     "output_type": "execute_result"
    }
   ],
   "source": [
    "LAX[(LAX['FL_DATE'] =='2019-01-31') & (LAX['WEATHER_DELAY'] > 0)].groupby(['OP_UNIQUE_CARRIER']).size()"
   ]
  },
  {
   "cell_type": "code",
   "execution_count": 36,
   "metadata": {},
   "outputs": [
    {
     "data": {
      "text/html": [
       "<div>\n",
       "<style scoped>\n",
       "    .dataframe tbody tr th:only-of-type {\n",
       "        vertical-align: middle;\n",
       "    }\n",
       "\n",
       "    .dataframe tbody tr th {\n",
       "        vertical-align: top;\n",
       "    }\n",
       "\n",
       "    .dataframe thead tr th {\n",
       "        text-align: left;\n",
       "    }\n",
       "\n",
       "    .dataframe thead tr:last-of-type th {\n",
       "        text-align: right;\n",
       "    }\n",
       "</style>\n",
       "<table border=\"1\" class=\"dataframe\">\n",
       "  <thead>\n",
       "    <tr>\n",
       "      <th></th>\n",
       "      <th>WEATHER_DELAY</th>\n",
       "    </tr>\n",
       "    <tr>\n",
       "      <th></th>\n",
       "      <th>sum</th>\n",
       "    </tr>\n",
       "    <tr>\n",
       "      <th>OP_UNIQUE_CARRIER</th>\n",
       "      <th></th>\n",
       "    </tr>\n",
       "  </thead>\n",
       "  <tbody>\n",
       "    <tr>\n",
       "      <th>DL</th>\n",
       "      <td>52.0</td>\n",
       "    </tr>\n",
       "  </tbody>\n",
       "</table>\n",
       "</div>"
      ],
      "text/plain": [
       "                  WEATHER_DELAY\n",
       "                            sum\n",
       "OP_UNIQUE_CARRIER              \n",
       "DL                         52.0"
      ]
     },
     "execution_count": 36,
     "metadata": {},
     "output_type": "execute_result"
    }
   ],
   "source": [
    "LAX[(LAX['FL_DATE'] =='2019-01-31') & (LAX['WEATHER_DELAY'] > 0)].groupby(['OP_UNIQUE_CARRIER']).agg({'WEATHER_DELAY': ['sum']})"
   ]
  },
  {
   "cell_type": "markdown",
   "metadata": {},
   "source": [
    "Delta Airlines had a total of 52 minutes of delays due to weather. It is also important to note, Delta travels to JFK and not EWR therefore we know the delays was only to the New York airport. "
   ]
  },
  {
   "cell_type": "code",
   "execution_count": 38,
   "metadata": {
    "scrolled": true
   },
   "outputs": [
    {
     "data": {
      "text/html": [
       "<div>\n",
       "<style scoped>\n",
       "    .dataframe tbody tr th:only-of-type {\n",
       "        vertical-align: middle;\n",
       "    }\n",
       "\n",
       "    .dataframe tbody tr th {\n",
       "        vertical-align: top;\n",
       "    }\n",
       "\n",
       "    .dataframe thead th {\n",
       "        text-align: right;\n",
       "    }\n",
       "</style>\n",
       "<table border=\"1\" class=\"dataframe\">\n",
       "  <thead>\n",
       "    <tr style=\"text-align: right;\">\n",
       "      <th></th>\n",
       "      <th>date</th>\n",
       "      <th>time</th>\n",
       "      <th>summary</th>\n",
       "      <th>icon</th>\n",
       "      <th>sunriseTime</th>\n",
       "      <th>sunsetTime</th>\n",
       "      <th>moonPhase</th>\n",
       "      <th>precipIntensity</th>\n",
       "      <th>precipIntensityMax</th>\n",
       "      <th>precipIntensityMaxTime</th>\n",
       "      <th>precipProbability</th>\n",
       "      <th>precipType</th>\n",
       "      <th>temperatureHigh</th>\n",
       "      <th>temperatureHighTime</th>\n",
       "      <th>temperatureLow</th>\n",
       "      <th>temperatureLowTime</th>\n",
       "      <th>apparentTemperatureHigh</th>\n",
       "      <th>apparentTemperatureHighTime</th>\n",
       "      <th>apparentTemperatureLow</th>\n",
       "      <th>apparentTemperatureLowTime</th>\n",
       "      <th>dewPoint</th>\n",
       "      <th>humidity</th>\n",
       "      <th>pressure</th>\n",
       "      <th>windSpeed</th>\n",
       "      <th>windGust</th>\n",
       "      <th>windGustTime</th>\n",
       "      <th>windBearing</th>\n",
       "      <th>cloudCover</th>\n",
       "      <th>uvIndex</th>\n",
       "      <th>uvIndexTime</th>\n",
       "      <th>visibility</th>\n",
       "      <th>ozone</th>\n",
       "      <th>temperatureMin</th>\n",
       "      <th>temperatureMinTime</th>\n",
       "      <th>temperatureMax</th>\n",
       "      <th>temperatureMaxTime</th>\n",
       "      <th>apparentTemperatureMin</th>\n",
       "      <th>apparentTemperatureMinTime</th>\n",
       "      <th>apparentTemperatureMax</th>\n",
       "      <th>apparentTemperatureMaxTime</th>\n",
       "      <th>season</th>\n",
       "      <th>month</th>\n",
       "      <th>avgtemp</th>\n",
       "    </tr>\n",
       "  </thead>\n",
       "  <tbody>\n",
       "    <tr>\n",
       "      <th>30</th>\n",
       "      <td>2019-01-31</td>\n",
       "      <td>1548835200</td>\n",
       "      <td>Partly cloudy throughout the day.</td>\n",
       "      <td>partly-cloudy-day</td>\n",
       "      <td>1548859980</td>\n",
       "      <td>1548897780</td>\n",
       "      <td>0.86</td>\n",
       "      <td>0.0001</td>\n",
       "      <td>0.0006</td>\n",
       "      <td>1548889200</td>\n",
       "      <td>0.16</td>\n",
       "      <td>rain</td>\n",
       "      <td>64.15</td>\n",
       "      <td>1548888480</td>\n",
       "      <td>55.5</td>\n",
       "      <td>1548926460</td>\n",
       "      <td>63.65</td>\n",
       "      <td>1548888480</td>\n",
       "      <td>55.99</td>\n",
       "      <td>1548926460</td>\n",
       "      <td>53.48</td>\n",
       "      <td>0.83</td>\n",
       "      <td>1013.1</td>\n",
       "      <td>4.8</td>\n",
       "      <td>9.95</td>\n",
       "      <td>1548899700</td>\n",
       "      <td>188</td>\n",
       "      <td>0.45</td>\n",
       "      <td>4</td>\n",
       "      <td>1548878820</td>\n",
       "      <td>9.468</td>\n",
       "      <td>264.3</td>\n",
       "      <td>54.65</td>\n",
       "      <td>1548862320</td>\n",
       "      <td>64.15</td>\n",
       "      <td>1548888480</td>\n",
       "      <td>55.14</td>\n",
       "      <td>1548862320</td>\n",
       "      <td>63.65</td>\n",
       "      <td>1548888480</td>\n",
       "      <td>1</td>\n",
       "      <td>1</td>\n",
       "      <td>59.4</td>\n",
       "    </tr>\n",
       "  </tbody>\n",
       "</table>\n",
       "</div>"
      ],
      "text/plain": [
       "         date        time                            summary  \\\n",
       "30 2019-01-31  1548835200  Partly cloudy throughout the day.   \n",
       "\n",
       "                 icon  sunriseTime  sunsetTime  moonPhase  precipIntensity  \\\n",
       "30  partly-cloudy-day   1548859980  1548897780       0.86           0.0001   \n",
       "\n",
       "    precipIntensityMax  precipIntensityMaxTime  precipProbability precipType  \\\n",
       "30              0.0006              1548889200               0.16       rain   \n",
       "\n",
       "    temperatureHigh  temperatureHighTime  temperatureLow  temperatureLowTime  \\\n",
       "30            64.15           1548888480            55.5          1548926460   \n",
       "\n",
       "    apparentTemperatureHigh  apparentTemperatureHighTime  \\\n",
       "30                    63.65                   1548888480   \n",
       "\n",
       "    apparentTemperatureLow  apparentTemperatureLowTime  dewPoint  humidity  \\\n",
       "30                   55.99                  1548926460     53.48      0.83   \n",
       "\n",
       "    pressure  windSpeed  windGust  windGustTime  windBearing  cloudCover  \\\n",
       "30    1013.1        4.8      9.95    1548899700          188        0.45   \n",
       "\n",
       "    uvIndex  uvIndexTime  visibility  ozone  temperatureMin  \\\n",
       "30        4   1548878820       9.468  264.3           54.65   \n",
       "\n",
       "    temperatureMinTime  temperatureMax  temperatureMaxTime  \\\n",
       "30          1548862320           64.15          1548888480   \n",
       "\n",
       "    apparentTemperatureMin  apparentTemperatureMinTime  \\\n",
       "30                   55.14                  1548862320   \n",
       "\n",
       "    apparentTemperatureMax  apparentTemperatureMaxTime season  month  avgtemp  \n",
       "30                   63.65                  1548888480      1      1     59.4  "
      ]
     },
     "execution_count": 38,
     "metadata": {},
     "output_type": "execute_result"
    }
   ],
   "source": [
    "df[df['date']== '2019-01-31']"
   ]
  },
  {
   "cell_type": "markdown",
   "metadata": {},
   "source": [
    "As we can see in Los Angeles there was not indication for a weather delay therefore lets look into JFK weather to see if the delay was because of the destination."
   ]
  },
  {
   "cell_type": "code",
   "execution_count": 44,
   "metadata": {},
   "outputs": [],
   "source": [
    "JFK = pd.read_csv('cleanjfkweather.csv')"
   ]
  },
  {
   "cell_type": "code",
   "execution_count": 45,
   "metadata": {},
   "outputs": [
    {
     "data": {
      "text/html": [
       "<div>\n",
       "<style scoped>\n",
       "    .dataframe tbody tr th:only-of-type {\n",
       "        vertical-align: middle;\n",
       "    }\n",
       "\n",
       "    .dataframe tbody tr th {\n",
       "        vertical-align: top;\n",
       "    }\n",
       "\n",
       "    .dataframe thead th {\n",
       "        text-align: right;\n",
       "    }\n",
       "</style>\n",
       "<table border=\"1\" class=\"dataframe\">\n",
       "  <thead>\n",
       "    <tr style=\"text-align: right;\">\n",
       "      <th></th>\n",
       "      <th>Unnamed: 0</th>\n",
       "      <th>date</th>\n",
       "      <th>time</th>\n",
       "      <th>summary</th>\n",
       "      <th>icon</th>\n",
       "      <th>sunriseTime</th>\n",
       "      <th>sunsetTime</th>\n",
       "      <th>moonPhase</th>\n",
       "      <th>precipIntensity</th>\n",
       "      <th>precipIntensityMax</th>\n",
       "      <th>precipIntensityMaxTime</th>\n",
       "      <th>precipProbability</th>\n",
       "      <th>precipType</th>\n",
       "      <th>temperatureHigh</th>\n",
       "      <th>temperatureHighTime</th>\n",
       "      <th>temperatureLow</th>\n",
       "      <th>temperatureLowTime</th>\n",
       "      <th>apparentTemperatureHigh</th>\n",
       "      <th>apparentTemperatureHighTime</th>\n",
       "      <th>apparentTemperatureLow</th>\n",
       "      <th>apparentTemperatureLowTime</th>\n",
       "      <th>dewPoint</th>\n",
       "      <th>humidity</th>\n",
       "      <th>pressure</th>\n",
       "      <th>windSpeed</th>\n",
       "      <th>windGust</th>\n",
       "      <th>windGustTime</th>\n",
       "      <th>windBearing</th>\n",
       "      <th>cloudCover</th>\n",
       "      <th>uvIndex</th>\n",
       "      <th>uvIndexTime</th>\n",
       "      <th>visibility</th>\n",
       "      <th>ozone</th>\n",
       "      <th>temperatureMin</th>\n",
       "      <th>temperatureMinTime</th>\n",
       "      <th>temperatureMax</th>\n",
       "      <th>temperatureMaxTime</th>\n",
       "      <th>apparentTemperatureMin</th>\n",
       "      <th>apparentTemperatureMinTime</th>\n",
       "      <th>apparentTemperatureMax</th>\n",
       "      <th>apparentTemperatureMaxTime</th>\n",
       "      <th>precipAccumulation</th>\n",
       "      <th>season</th>\n",
       "      <th>month</th>\n",
       "      <th>avgtemp</th>\n",
       "    </tr>\n",
       "  </thead>\n",
       "  <tbody>\n",
       "    <tr>\n",
       "      <th>30</th>\n",
       "      <td>30</td>\n",
       "      <td>2019-01-31</td>\n",
       "      <td>1548824400</td>\n",
       "      <td>Windy in the afternoon and evening.</td>\n",
       "      <td>rain</td>\n",
       "      <td>1548850080</td>\n",
       "      <td>1548886260</td>\n",
       "      <td>0.85</td>\n",
       "      <td>0.0007</td>\n",
       "      <td>0.0101</td>\n",
       "      <td>1548824400</td>\n",
       "      <td>0.8</td>\n",
       "      <td>rain</td>\n",
       "      <td>34.44</td>\n",
       "      <td>1548878160</td>\n",
       "      <td>3.29</td>\n",
       "      <td>1548932580</td>\n",
       "      <td>21.85</td>\n",
       "      <td>1548878100</td>\n",
       "      <td>-15.53</td>\n",
       "      <td>1548923520</td>\n",
       "      <td>7.07</td>\n",
       "      <td>0.5</td>\n",
       "      <td>1014.3</td>\n",
       "      <td>18.24</td>\n",
       "      <td>41.89</td>\n",
       "      <td>1548889380</td>\n",
       "      <td>270</td>\n",
       "      <td>0.26</td>\n",
       "      <td>2</td>\n",
       "      <td>1548868080</td>\n",
       "      <td>9.621</td>\n",
       "      <td>352.4</td>\n",
       "      <td>6.9</td>\n",
       "      <td>1548907200</td>\n",
       "      <td>36.22</td>\n",
       "      <td>1548826560</td>\n",
       "      <td>-10.91</td>\n",
       "      <td>1548907200</td>\n",
       "      <td>27.25</td>\n",
       "      <td>1548827040</td>\n",
       "      <td>0.0</td>\n",
       "      <td>1</td>\n",
       "      <td>1</td>\n",
       "      <td>21.56</td>\n",
       "    </tr>\n",
       "  </tbody>\n",
       "</table>\n",
       "</div>"
      ],
      "text/plain": [
       "    Unnamed: 0        date        time                              summary  \\\n",
       "30          30  2019-01-31  1548824400  Windy in the afternoon and evening.   \n",
       "\n",
       "    icon  sunriseTime  sunsetTime  moonPhase  precipIntensity  \\\n",
       "30  rain   1548850080  1548886260       0.85           0.0007   \n",
       "\n",
       "    precipIntensityMax  precipIntensityMaxTime  precipProbability precipType  \\\n",
       "30              0.0101              1548824400                0.8       rain   \n",
       "\n",
       "    temperatureHigh  temperatureHighTime  temperatureLow  temperatureLowTime  \\\n",
       "30            34.44           1548878160            3.29          1548932580   \n",
       "\n",
       "    apparentTemperatureHigh  apparentTemperatureHighTime  \\\n",
       "30                    21.85                   1548878100   \n",
       "\n",
       "    apparentTemperatureLow  apparentTemperatureLowTime  dewPoint  humidity  \\\n",
       "30                  -15.53                  1548923520      7.07       0.5   \n",
       "\n",
       "    pressure  windSpeed  windGust  windGustTime  windBearing  cloudCover  \\\n",
       "30    1014.3      18.24     41.89    1548889380          270        0.26   \n",
       "\n",
       "    uvIndex  uvIndexTime  visibility  ozone  temperatureMin  \\\n",
       "30        2   1548868080       9.621  352.4             6.9   \n",
       "\n",
       "    temperatureMinTime  temperatureMax  temperatureMaxTime  \\\n",
       "30          1548907200           36.22          1548826560   \n",
       "\n",
       "    apparentTemperatureMin  apparentTemperatureMinTime  \\\n",
       "30                  -10.91                  1548907200   \n",
       "\n",
       "    apparentTemperatureMax  apparentTemperatureMaxTime  precipAccumulation  \\\n",
       "30                   27.25                  1548827040                 0.0   \n",
       "\n",
       "    season  month  avgtemp  \n",
       "30       1      1    21.56  "
      ]
     },
     "execution_count": 45,
     "metadata": {},
     "output_type": "execute_result"
    }
   ],
   "source": [
    "JFK[JFK['date']== '2019-01-31']"
   ]
  },
  {
   "cell_type": "markdown",
   "metadata": {},
   "source": [
    "In New York on this date it rained therefore we can assume the delay in LAX was because of the weather condition in New York. There was an 80% chance of precipitation on this day with high windgust of 41.89 mph. "
   ]
  },
  {
   "cell_type": "markdown",
   "metadata": {},
   "source": [
    "### 2019-12-03"
   ]
  },
  {
   "cell_type": "code",
   "execution_count": 47,
   "metadata": {},
   "outputs": [
    {
     "data": {
      "text/plain": [
       "OP_UNIQUE_CARRIER\n",
       "AA    11\n",
       "AS     7\n",
       "B6    12\n",
       "DL    10\n",
       "UA    12\n",
       "dtype: int64"
      ]
     },
     "execution_count": 47,
     "metadata": {},
     "output_type": "execute_result"
    }
   ],
   "source": [
    "LAX[(LAX['FL_DATE'] =='2019-12-03')].groupby(['OP_UNIQUE_CARRIER']).size()"
   ]
  },
  {
   "cell_type": "markdown",
   "metadata": {},
   "source": [
    "On this date there were a total of 52 flights to the east coast but only two flights were delayed."
   ]
  },
  {
   "cell_type": "code",
   "execution_count": 48,
   "metadata": {},
   "outputs": [
    {
     "data": {
      "text/plain": [
       "OP_UNIQUE_CARRIER\n",
       "B6    2\n",
       "dtype: int64"
      ]
     },
     "execution_count": 48,
     "metadata": {},
     "output_type": "execute_result"
    }
   ],
   "source": [
    "LAX[(LAX['FL_DATE'] =='2019-12-03') & (LAX['WEATHER_DELAY'] > 0)].groupby(['OP_UNIQUE_CARRIER']).size()"
   ]
  },
  {
   "cell_type": "code",
   "execution_count": 51,
   "metadata": {},
   "outputs": [
    {
     "data": {
      "text/html": [
       "<div>\n",
       "<style scoped>\n",
       "    .dataframe tbody tr th:only-of-type {\n",
       "        vertical-align: middle;\n",
       "    }\n",
       "\n",
       "    .dataframe tbody tr th {\n",
       "        vertical-align: top;\n",
       "    }\n",
       "\n",
       "    .dataframe thead tr th {\n",
       "        text-align: left;\n",
       "    }\n",
       "\n",
       "    .dataframe thead tr:last-of-type th {\n",
       "        text-align: right;\n",
       "    }\n",
       "</style>\n",
       "<table border=\"1\" class=\"dataframe\">\n",
       "  <thead>\n",
       "    <tr>\n",
       "      <th></th>\n",
       "      <th>WEATHER_DELAY</th>\n",
       "    </tr>\n",
       "    <tr>\n",
       "      <th></th>\n",
       "      <th>sum</th>\n",
       "    </tr>\n",
       "    <tr>\n",
       "      <th>OP_UNIQUE_CARRIER</th>\n",
       "      <th></th>\n",
       "    </tr>\n",
       "  </thead>\n",
       "  <tbody>\n",
       "    <tr>\n",
       "      <th>B6</th>\n",
       "      <td>148.0</td>\n",
       "    </tr>\n",
       "  </tbody>\n",
       "</table>\n",
       "</div>"
      ],
      "text/plain": [
       "                  WEATHER_DELAY\n",
       "                            sum\n",
       "OP_UNIQUE_CARRIER              \n",
       "B6                        148.0"
      ]
     },
     "execution_count": 51,
     "metadata": {},
     "output_type": "execute_result"
    }
   ],
   "source": [
    "LAX[(LAX['FL_DATE'] =='2019-12-03') & (LAX['WEATHER_DELAY'] > 0)].groupby(['OP_UNIQUE_CARRIER']).agg({'WEATHER_DELAY': ['sum']})"
   ]
  },
  {
   "cell_type": "markdown",
   "metadata": {},
   "source": [
    "JetBlue was the only airline to have delays on this date. In addition, JetBlue flies to JFK specifically and not EWR we can conclude the flight was headed to JFK. The two flights were delayed by a totoalof 148 minutes, a bit over 2 hours."
   ]
  },
  {
   "cell_type": "code",
   "execution_count": 52,
   "metadata": {
    "scrolled": true
   },
   "outputs": [
    {
     "data": {
      "text/html": [
       "<div>\n",
       "<style scoped>\n",
       "    .dataframe tbody tr th:only-of-type {\n",
       "        vertical-align: middle;\n",
       "    }\n",
       "\n",
       "    .dataframe tbody tr th {\n",
       "        vertical-align: top;\n",
       "    }\n",
       "\n",
       "    .dataframe thead th {\n",
       "        text-align: right;\n",
       "    }\n",
       "</style>\n",
       "<table border=\"1\" class=\"dataframe\">\n",
       "  <thead>\n",
       "    <tr style=\"text-align: right;\">\n",
       "      <th></th>\n",
       "      <th>date</th>\n",
       "      <th>time</th>\n",
       "      <th>summary</th>\n",
       "      <th>icon</th>\n",
       "      <th>sunriseTime</th>\n",
       "      <th>sunsetTime</th>\n",
       "      <th>moonPhase</th>\n",
       "      <th>precipIntensity</th>\n",
       "      <th>precipIntensityMax</th>\n",
       "      <th>precipIntensityMaxTime</th>\n",
       "      <th>precipProbability</th>\n",
       "      <th>precipType</th>\n",
       "      <th>temperatureHigh</th>\n",
       "      <th>temperatureHighTime</th>\n",
       "      <th>temperatureLow</th>\n",
       "      <th>temperatureLowTime</th>\n",
       "      <th>apparentTemperatureHigh</th>\n",
       "      <th>apparentTemperatureHighTime</th>\n",
       "      <th>apparentTemperatureLow</th>\n",
       "      <th>apparentTemperatureLowTime</th>\n",
       "      <th>dewPoint</th>\n",
       "      <th>humidity</th>\n",
       "      <th>pressure</th>\n",
       "      <th>windSpeed</th>\n",
       "      <th>windGust</th>\n",
       "      <th>windGustTime</th>\n",
       "      <th>windBearing</th>\n",
       "      <th>cloudCover</th>\n",
       "      <th>uvIndex</th>\n",
       "      <th>uvIndexTime</th>\n",
       "      <th>visibility</th>\n",
       "      <th>ozone</th>\n",
       "      <th>temperatureMin</th>\n",
       "      <th>temperatureMinTime</th>\n",
       "      <th>temperatureMax</th>\n",
       "      <th>temperatureMaxTime</th>\n",
       "      <th>apparentTemperatureMin</th>\n",
       "      <th>apparentTemperatureMinTime</th>\n",
       "      <th>apparentTemperatureMax</th>\n",
       "      <th>apparentTemperatureMaxTime</th>\n",
       "      <th>season</th>\n",
       "      <th>month</th>\n",
       "      <th>avgtemp</th>\n",
       "    </tr>\n",
       "  </thead>\n",
       "  <tbody>\n",
       "    <tr>\n",
       "      <th>336</th>\n",
       "      <td>2019-12-03</td>\n",
       "      <td>1575273600</td>\n",
       "      <td>Partly cloudy throughout the day.</td>\n",
       "      <td>partly-cloudy-day</td>\n",
       "      <td>1575297780</td>\n",
       "      <td>1575333960</td>\n",
       "      <td>0.22</td>\n",
       "      <td>0.0001</td>\n",
       "      <td>0.0005</td>\n",
       "      <td>1575337860</td>\n",
       "      <td>0.1</td>\n",
       "      <td>rain</td>\n",
       "      <td>67.06</td>\n",
       "      <td>1575322860</td>\n",
       "      <td>54.01</td>\n",
       "      <td>1575374640</td>\n",
       "      <td>66.56</td>\n",
       "      <td>1575322860</td>\n",
       "      <td>54.5</td>\n",
       "      <td>1575374640</td>\n",
       "      <td>42.23</td>\n",
       "      <td>0.54</td>\n",
       "      <td>1019.6</td>\n",
       "      <td>4.78</td>\n",
       "      <td>9.17</td>\n",
       "      <td>1575328500</td>\n",
       "      <td>289</td>\n",
       "      <td>0.41</td>\n",
       "      <td>3</td>\n",
       "      <td>1575315900</td>\n",
       "      <td>10.0</td>\n",
       "      <td>300.0</td>\n",
       "      <td>52.37</td>\n",
       "      <td>1575294780</td>\n",
       "      <td>67.06</td>\n",
       "      <td>1575322860</td>\n",
       "      <td>52.86</td>\n",
       "      <td>1575294780</td>\n",
       "      <td>66.56</td>\n",
       "      <td>1575322860</td>\n",
       "      <td>2</td>\n",
       "      <td>12</td>\n",
       "      <td>59.715</td>\n",
       "    </tr>\n",
       "  </tbody>\n",
       "</table>\n",
       "</div>"
      ],
      "text/plain": [
       "          date        time                            summary  \\\n",
       "336 2019-12-03  1575273600  Partly cloudy throughout the day.   \n",
       "\n",
       "                  icon  sunriseTime  sunsetTime  moonPhase  precipIntensity  \\\n",
       "336  partly-cloudy-day   1575297780  1575333960       0.22           0.0001   \n",
       "\n",
       "     precipIntensityMax  precipIntensityMaxTime  precipProbability precipType  \\\n",
       "336              0.0005              1575337860                0.1       rain   \n",
       "\n",
       "     temperatureHigh  temperatureHighTime  temperatureLow  temperatureLowTime  \\\n",
       "336            67.06           1575322860           54.01          1575374640   \n",
       "\n",
       "     apparentTemperatureHigh  apparentTemperatureHighTime  \\\n",
       "336                    66.56                   1575322860   \n",
       "\n",
       "     apparentTemperatureLow  apparentTemperatureLowTime  dewPoint  humidity  \\\n",
       "336                    54.5                  1575374640     42.23      0.54   \n",
       "\n",
       "     pressure  windSpeed  windGust  windGustTime  windBearing  cloudCover  \\\n",
       "336    1019.6       4.78      9.17    1575328500          289        0.41   \n",
       "\n",
       "     uvIndex  uvIndexTime  visibility  ozone  temperatureMin  \\\n",
       "336        3   1575315900        10.0  300.0           52.37   \n",
       "\n",
       "     temperatureMinTime  temperatureMax  temperatureMaxTime  \\\n",
       "336          1575294780           67.06          1575322860   \n",
       "\n",
       "     apparentTemperatureMin  apparentTemperatureMinTime  \\\n",
       "336                   52.86                  1575294780   \n",
       "\n",
       "     apparentTemperatureMax  apparentTemperatureMaxTime season  month  avgtemp  \n",
       "336                   66.56                  1575322860      2     12   59.715  "
      ]
     },
     "execution_count": 52,
     "metadata": {},
     "output_type": "execute_result"
    }
   ],
   "source": [
    "df[df['date']== '2019-12-03']"
   ]
  },
  {
   "cell_type": "markdown",
   "metadata": {},
   "source": [
    "According to the LAX weather data on this date there was only a 10% chance of rain in Los Angeles with partly cloudy skys and good visibility. Therefore I decided to look into JFK weather in this date."
   ]
  },
  {
   "cell_type": "code",
   "execution_count": 53,
   "metadata": {},
   "outputs": [
    {
     "data": {
      "text/html": [
       "<div>\n",
       "<style scoped>\n",
       "    .dataframe tbody tr th:only-of-type {\n",
       "        vertical-align: middle;\n",
       "    }\n",
       "\n",
       "    .dataframe tbody tr th {\n",
       "        vertical-align: top;\n",
       "    }\n",
       "\n",
       "    .dataframe thead th {\n",
       "        text-align: right;\n",
       "    }\n",
       "</style>\n",
       "<table border=\"1\" class=\"dataframe\">\n",
       "  <thead>\n",
       "    <tr style=\"text-align: right;\">\n",
       "      <th></th>\n",
       "      <th>Unnamed: 0</th>\n",
       "      <th>date</th>\n",
       "      <th>time</th>\n",
       "      <th>summary</th>\n",
       "      <th>icon</th>\n",
       "      <th>sunriseTime</th>\n",
       "      <th>sunsetTime</th>\n",
       "      <th>moonPhase</th>\n",
       "      <th>precipIntensity</th>\n",
       "      <th>precipIntensityMax</th>\n",
       "      <th>precipIntensityMaxTime</th>\n",
       "      <th>precipProbability</th>\n",
       "      <th>precipType</th>\n",
       "      <th>temperatureHigh</th>\n",
       "      <th>temperatureHighTime</th>\n",
       "      <th>temperatureLow</th>\n",
       "      <th>temperatureLowTime</th>\n",
       "      <th>apparentTemperatureHigh</th>\n",
       "      <th>apparentTemperatureHighTime</th>\n",
       "      <th>apparentTemperatureLow</th>\n",
       "      <th>apparentTemperatureLowTime</th>\n",
       "      <th>dewPoint</th>\n",
       "      <th>humidity</th>\n",
       "      <th>pressure</th>\n",
       "      <th>windSpeed</th>\n",
       "      <th>windGust</th>\n",
       "      <th>windGustTime</th>\n",
       "      <th>windBearing</th>\n",
       "      <th>cloudCover</th>\n",
       "      <th>uvIndex</th>\n",
       "      <th>uvIndexTime</th>\n",
       "      <th>visibility</th>\n",
       "      <th>ozone</th>\n",
       "      <th>temperatureMin</th>\n",
       "      <th>temperatureMinTime</th>\n",
       "      <th>temperatureMax</th>\n",
       "      <th>temperatureMaxTime</th>\n",
       "      <th>apparentTemperatureMin</th>\n",
       "      <th>apparentTemperatureMinTime</th>\n",
       "      <th>apparentTemperatureMax</th>\n",
       "      <th>apparentTemperatureMaxTime</th>\n",
       "      <th>precipAccumulation</th>\n",
       "      <th>season</th>\n",
       "      <th>month</th>\n",
       "      <th>avgtemp</th>\n",
       "    </tr>\n",
       "  </thead>\n",
       "  <tbody>\n",
       "    <tr>\n",
       "      <th>336</th>\n",
       "      <td>336</td>\n",
       "      <td>2019-12-03</td>\n",
       "      <td>1575262800</td>\n",
       "      <td>Light rain (with a chance of 1–2 in. of snow) ...</td>\n",
       "      <td>rain</td>\n",
       "      <td>1575288120</td>\n",
       "      <td>1575322200</td>\n",
       "      <td>0.21</td>\n",
       "      <td>0.015</td>\n",
       "      <td>0.0429</td>\n",
       "      <td>1575318900</td>\n",
       "      <td>1.0</td>\n",
       "      <td>rain</td>\n",
       "      <td>38.34</td>\n",
       "      <td>1575288000</td>\n",
       "      <td>31.04</td>\n",
       "      <td>1575377640</td>\n",
       "      <td>29.26</td>\n",
       "      <td>1575292860</td>\n",
       "      <td>20.26</td>\n",
       "      <td>1575352260</td>\n",
       "      <td>34.81</td>\n",
       "      <td>0.95</td>\n",
       "      <td>998.9</td>\n",
       "      <td>16.56</td>\n",
       "      <td>29.24</td>\n",
       "      <td>1575323280</td>\n",
       "      <td>7</td>\n",
       "      <td>1.0</td>\n",
       "      <td>1</td>\n",
       "      <td>1575305280</td>\n",
       "      <td>6.229</td>\n",
       "      <td>399.5</td>\n",
       "      <td>31.85</td>\n",
       "      <td>1575345600</td>\n",
       "      <td>39.98</td>\n",
       "      <td>1575262800</td>\n",
       "      <td>20.68</td>\n",
       "      <td>1575339660</td>\n",
       "      <td>30.18</td>\n",
       "      <td>1575262800</td>\n",
       "      <td>0.0</td>\n",
       "      <td>2</td>\n",
       "      <td>12</td>\n",
       "      <td>35.915</td>\n",
       "    </tr>\n",
       "  </tbody>\n",
       "</table>\n",
       "</div>"
      ],
      "text/plain": [
       "     Unnamed: 0        date        time  \\\n",
       "336         336  2019-12-03  1575262800   \n",
       "\n",
       "                                               summary  icon  sunriseTime  \\\n",
       "336  Light rain (with a chance of 1–2 in. of snow) ...  rain   1575288120   \n",
       "\n",
       "     sunsetTime  moonPhase  precipIntensity  precipIntensityMax  \\\n",
       "336  1575322200       0.21            0.015              0.0429   \n",
       "\n",
       "     precipIntensityMaxTime  precipProbability precipType  temperatureHigh  \\\n",
       "336              1575318900                1.0       rain            38.34   \n",
       "\n",
       "     temperatureHighTime  temperatureLow  temperatureLowTime  \\\n",
       "336           1575288000           31.04          1575377640   \n",
       "\n",
       "     apparentTemperatureHigh  apparentTemperatureHighTime  \\\n",
       "336                    29.26                   1575292860   \n",
       "\n",
       "     apparentTemperatureLow  apparentTemperatureLowTime  dewPoint  humidity  \\\n",
       "336                   20.26                  1575352260     34.81      0.95   \n",
       "\n",
       "     pressure  windSpeed  windGust  windGustTime  windBearing  cloudCover  \\\n",
       "336     998.9      16.56     29.24    1575323280            7         1.0   \n",
       "\n",
       "     uvIndex  uvIndexTime  visibility  ozone  temperatureMin  \\\n",
       "336        1   1575305280       6.229  399.5           31.85   \n",
       "\n",
       "     temperatureMinTime  temperatureMax  temperatureMaxTime  \\\n",
       "336          1575345600           39.98          1575262800   \n",
       "\n",
       "     apparentTemperatureMin  apparentTemperatureMinTime  \\\n",
       "336                   20.68                  1575339660   \n",
       "\n",
       "     apparentTemperatureMax  apparentTemperatureMaxTime  precipAccumulation  \\\n",
       "336                   30.18                  1575262800                 0.0   \n",
       "\n",
       "     season  month  avgtemp  \n",
       "336       2     12   35.915  "
      ]
     },
     "execution_count": 53,
     "metadata": {},
     "output_type": "execute_result"
    }
   ],
   "source": [
    "JFK[JFK['date']== '2019-12-03']"
   ]
  },
  {
   "cell_type": "markdown",
   "metadata": {},
   "source": [
    "In JFK it seems the delay was in the destination. On this date there was a 100% chance of precipiation with high cloud coverage and low visibility therefore we can conclude the delay in LAX was because of weather in New York."
   ]
  },
  {
   "cell_type": "markdown",
   "metadata": {},
   "source": [
    "### 2019-01-06  "
   ]
  },
  {
   "cell_type": "code",
   "execution_count": 56,
   "metadata": {
    "scrolled": true
   },
   "outputs": [
    {
     "data": {
      "text/plain": [
       "OP_UNIQUE_CARRIER\n",
       "AA    12\n",
       "AS     7\n",
       "B6    10\n",
       "DL     9\n",
       "UA    11\n",
       "dtype: int64"
      ]
     },
     "execution_count": 56,
     "metadata": {},
     "output_type": "execute_result"
    }
   ],
   "source": [
    "LAX[(LAX['FL_DATE'] =='2019-01-06')].groupby(['OP_UNIQUE_CARRIER']).size()"
   ]
  },
  {
   "cell_type": "markdown",
   "metadata": {},
   "source": [
    "In LAX, on January 6,2019 there were a toal of 49 flights. On this date only one flight was delayed yet it is still part of the top 3 delayed flights in LAX."
   ]
  },
  {
   "cell_type": "code",
   "execution_count": 57,
   "metadata": {
    "scrolled": true
   },
   "outputs": [
    {
     "data": {
      "text/plain": [
       "OP_UNIQUE_CARRIER\n",
       "AS    1\n",
       "dtype: int64"
      ]
     },
     "execution_count": 57,
     "metadata": {},
     "output_type": "execute_result"
    }
   ],
   "source": [
    "LAX[(LAX['FL_DATE'] =='2019-01-06') & (LAX['WEATHER_DELAY'] > 0)].groupby(['OP_UNIQUE_CARRIER']).size()"
   ]
  },
  {
   "cell_type": "code",
   "execution_count": 61,
   "metadata": {},
   "outputs": [
    {
     "data": {
      "text/html": [
       "<div>\n",
       "<style scoped>\n",
       "    .dataframe tbody tr th:only-of-type {\n",
       "        vertical-align: middle;\n",
       "    }\n",
       "\n",
       "    .dataframe tbody tr th {\n",
       "        vertical-align: top;\n",
       "    }\n",
       "\n",
       "    .dataframe thead th {\n",
       "        text-align: right;\n",
       "    }\n",
       "</style>\n",
       "<table border=\"1\" class=\"dataframe\">\n",
       "  <thead>\n",
       "    <tr style=\"text-align: right;\">\n",
       "      <th></th>\n",
       "      <th>QUARTER</th>\n",
       "      <th>MONTH</th>\n",
       "      <th>DAY_OF_MONTH</th>\n",
       "      <th>DAY_OF_WEEK</th>\n",
       "      <th>FL_DATE</th>\n",
       "      <th>OP_UNIQUE_CARRIER</th>\n",
       "      <th>OP_CARRIER_FL_NUM</th>\n",
       "      <th>ORIGIN_AIRPORT_ID</th>\n",
       "      <th>ORIGIN</th>\n",
       "      <th>ORIGIN_CITY_NAME</th>\n",
       "      <th>ORIGIN_STATE_ABR</th>\n",
       "      <th>ORIGIN_STATE_NM</th>\n",
       "      <th>DEST_AIRPORT_ID</th>\n",
       "      <th>DEST</th>\n",
       "      <th>DEST_CITY_NAME</th>\n",
       "      <th>DEST_STATE_ABR</th>\n",
       "      <th>DEST_STATE_NM</th>\n",
       "      <th>DEP_TIME</th>\n",
       "      <th>DEP_DELAY</th>\n",
       "      <th>ARR_TIME</th>\n",
       "      <th>ARR_DELAY</th>\n",
       "      <th>CANCELLED</th>\n",
       "      <th>AIR_TIME</th>\n",
       "      <th>DISTANCE</th>\n",
       "      <th>CARRIER_DELAY</th>\n",
       "      <th>WEATHER_DELAY</th>\n",
       "      <th>NAS_DELAY</th>\n",
       "      <th>SECURITY_DELAY</th>\n",
       "      <th>LATE_AIRCRAFT_DELAY</th>\n",
       "      <th>delayed</th>\n",
       "      <th>ontime</th>\n",
       "      <th>cancel</th>\n",
       "      <th>class</th>\n",
       "      <th>delay_carrier</th>\n",
       "      <th>delay_weather</th>\n",
       "      <th>delay_nas</th>\n",
       "      <th>delay_security</th>\n",
       "      <th>delay_late_aircraft</th>\n",
       "    </tr>\n",
       "  </thead>\n",
       "  <tbody>\n",
       "    <tr>\n",
       "      <th>26034</th>\n",
       "      <td>1</td>\n",
       "      <td>1</td>\n",
       "      <td>6</td>\n",
       "      <td>7</td>\n",
       "      <td>2019-01-06</td>\n",
       "      <td>AS</td>\n",
       "      <td>1156</td>\n",
       "      <td>12892</td>\n",
       "      <td>LAX</td>\n",
       "      <td>Los Angeles, CA</td>\n",
       "      <td>CA</td>\n",
       "      <td>California</td>\n",
       "      <td>11618</td>\n",
       "      <td>EWR</td>\n",
       "      <td>Newark, NJ</td>\n",
       "      <td>NJ</td>\n",
       "      <td>New Jersey</td>\n",
       "      <td>644.0</td>\n",
       "      <td>24.0</td>\n",
       "      <td>1456.0</td>\n",
       "      <td>25.0</td>\n",
       "      <td>0.0</td>\n",
       "      <td>278.0</td>\n",
       "      <td>2454.0</td>\n",
       "      <td>0.0</td>\n",
       "      <td>24.0</td>\n",
       "      <td>1.0</td>\n",
       "      <td>0.0</td>\n",
       "      <td>0.0</td>\n",
       "      <td>True</td>\n",
       "      <td>False</td>\n",
       "      <td>False</td>\n",
       "      <td>2</td>\n",
       "      <td>False</td>\n",
       "      <td>True</td>\n",
       "      <td>True</td>\n",
       "      <td>False</td>\n",
       "      <td>False</td>\n",
       "    </tr>\n",
       "  </tbody>\n",
       "</table>\n",
       "</div>"
      ],
      "text/plain": [
       "       QUARTER  MONTH  DAY_OF_MONTH  DAY_OF_WEEK     FL_DATE  \\\n",
       "26034        1      1             6            7  2019-01-06   \n",
       "\n",
       "      OP_UNIQUE_CARRIER  OP_CARRIER_FL_NUM  ORIGIN_AIRPORT_ID ORIGIN  \\\n",
       "26034                AS               1156              12892    LAX   \n",
       "\n",
       "      ORIGIN_CITY_NAME ORIGIN_STATE_ABR ORIGIN_STATE_NM  DEST_AIRPORT_ID DEST  \\\n",
       "26034  Los Angeles, CA               CA      California            11618  EWR   \n",
       "\n",
       "      DEST_CITY_NAME DEST_STATE_ABR DEST_STATE_NM  DEP_TIME  DEP_DELAY  \\\n",
       "26034     Newark, NJ             NJ    New Jersey     644.0       24.0   \n",
       "\n",
       "       ARR_TIME  ARR_DELAY  CANCELLED  AIR_TIME  DISTANCE  CARRIER_DELAY  \\\n",
       "26034    1456.0       25.0        0.0     278.0    2454.0            0.0   \n",
       "\n",
       "       WEATHER_DELAY  NAS_DELAY  SECURITY_DELAY  LATE_AIRCRAFT_DELAY  delayed  \\\n",
       "26034           24.0        1.0             0.0                  0.0     True   \n",
       "\n",
       "       ontime  cancel  class  delay_carrier  delay_weather  delay_nas  \\\n",
       "26034   False   False      2          False           True       True   \n",
       "\n",
       "       delay_security  delay_late_aircraft  \n",
       "26034           False                False  "
      ]
     },
     "execution_count": 61,
     "metadata": {},
     "output_type": "execute_result"
    }
   ],
   "source": [
    "LAX[(LAX['FL_DATE'] =='2019-01-06') & (LAX['WEATHER_DELAY'] > 0)]"
   ]
  },
  {
   "cell_type": "markdown",
   "metadata": {},
   "source": [
    "Alaska Airlines was the only delayed flight on this date. The flight was delayed by 24 minutes. This flight was headed to EWR."
   ]
  },
  {
   "cell_type": "code",
   "execution_count": 58,
   "metadata": {},
   "outputs": [
    {
     "data": {
      "text/html": [
       "<div>\n",
       "<style scoped>\n",
       "    .dataframe tbody tr th:only-of-type {\n",
       "        vertical-align: middle;\n",
       "    }\n",
       "\n",
       "    .dataframe tbody tr th {\n",
       "        vertical-align: top;\n",
       "    }\n",
       "\n",
       "    .dataframe thead tr th {\n",
       "        text-align: left;\n",
       "    }\n",
       "\n",
       "    .dataframe thead tr:last-of-type th {\n",
       "        text-align: right;\n",
       "    }\n",
       "</style>\n",
       "<table border=\"1\" class=\"dataframe\">\n",
       "  <thead>\n",
       "    <tr>\n",
       "      <th></th>\n",
       "      <th>WEATHER_DELAY</th>\n",
       "    </tr>\n",
       "    <tr>\n",
       "      <th></th>\n",
       "      <th>sum</th>\n",
       "    </tr>\n",
       "    <tr>\n",
       "      <th>OP_UNIQUE_CARRIER</th>\n",
       "      <th></th>\n",
       "    </tr>\n",
       "  </thead>\n",
       "  <tbody>\n",
       "    <tr>\n",
       "      <th>AS</th>\n",
       "      <td>24.0</td>\n",
       "    </tr>\n",
       "  </tbody>\n",
       "</table>\n",
       "</div>"
      ],
      "text/plain": [
       "                  WEATHER_DELAY\n",
       "                            sum\n",
       "OP_UNIQUE_CARRIER              \n",
       "AS                         24.0"
      ]
     },
     "execution_count": 58,
     "metadata": {},
     "output_type": "execute_result"
    }
   ],
   "source": [
    "LAX[(LAX['FL_DATE'] =='2019-01-06') & (LAX['WEATHER_DELAY'] > 0)].groupby(['OP_UNIQUE_CARRIER']).agg({'WEATHER_DELAY': ['sum']})"
   ]
  },
  {
   "cell_type": "code",
   "execution_count": 60,
   "metadata": {},
   "outputs": [
    {
     "data": {
      "text/html": [
       "<div>\n",
       "<style scoped>\n",
       "    .dataframe tbody tr th:only-of-type {\n",
       "        vertical-align: middle;\n",
       "    }\n",
       "\n",
       "    .dataframe tbody tr th {\n",
       "        vertical-align: top;\n",
       "    }\n",
       "\n",
       "    .dataframe thead th {\n",
       "        text-align: right;\n",
       "    }\n",
       "</style>\n",
       "<table border=\"1\" class=\"dataframe\">\n",
       "  <thead>\n",
       "    <tr style=\"text-align: right;\">\n",
       "      <th></th>\n",
       "      <th>date</th>\n",
       "      <th>time</th>\n",
       "      <th>summary</th>\n",
       "      <th>icon</th>\n",
       "      <th>sunriseTime</th>\n",
       "      <th>sunsetTime</th>\n",
       "      <th>moonPhase</th>\n",
       "      <th>precipIntensity</th>\n",
       "      <th>precipIntensityMax</th>\n",
       "      <th>precipIntensityMaxTime</th>\n",
       "      <th>precipProbability</th>\n",
       "      <th>precipType</th>\n",
       "      <th>temperatureHigh</th>\n",
       "      <th>temperatureHighTime</th>\n",
       "      <th>temperatureLow</th>\n",
       "      <th>temperatureLowTime</th>\n",
       "      <th>apparentTemperatureHigh</th>\n",
       "      <th>apparentTemperatureHighTime</th>\n",
       "      <th>apparentTemperatureLow</th>\n",
       "      <th>apparentTemperatureLowTime</th>\n",
       "      <th>dewPoint</th>\n",
       "      <th>humidity</th>\n",
       "      <th>pressure</th>\n",
       "      <th>windSpeed</th>\n",
       "      <th>windGust</th>\n",
       "      <th>windGustTime</th>\n",
       "      <th>windBearing</th>\n",
       "      <th>cloudCover</th>\n",
       "      <th>uvIndex</th>\n",
       "      <th>uvIndexTime</th>\n",
       "      <th>visibility</th>\n",
       "      <th>ozone</th>\n",
       "      <th>temperatureMin</th>\n",
       "      <th>temperatureMinTime</th>\n",
       "      <th>temperatureMax</th>\n",
       "      <th>temperatureMaxTime</th>\n",
       "      <th>apparentTemperatureMin</th>\n",
       "      <th>apparentTemperatureMinTime</th>\n",
       "      <th>apparentTemperatureMax</th>\n",
       "      <th>apparentTemperatureMaxTime</th>\n",
       "      <th>season</th>\n",
       "      <th>month</th>\n",
       "      <th>avgtemp</th>\n",
       "    </tr>\n",
       "  </thead>\n",
       "  <tbody>\n",
       "    <tr>\n",
       "      <th>5</th>\n",
       "      <td>2019-01-06</td>\n",
       "      <td>1546675200</td>\n",
       "      <td>Heavy rain in the evening and overnight.</td>\n",
       "      <td>rain</td>\n",
       "      <td>1546700460</td>\n",
       "      <td>1546736400</td>\n",
       "      <td>0.0</td>\n",
       "      <td>0.0175</td>\n",
       "      <td>0.2348</td>\n",
       "      <td>1546754160</td>\n",
       "      <td>0.98</td>\n",
       "      <td>rain</td>\n",
       "      <td>58.85</td>\n",
       "      <td>1546731240</td>\n",
       "      <td>49.07</td>\n",
       "      <td>1546786020</td>\n",
       "      <td>58.35</td>\n",
       "      <td>1546731240</td>\n",
       "      <td>49.56</td>\n",
       "      <td>1546786020</td>\n",
       "      <td>45.38</td>\n",
       "      <td>0.73</td>\n",
       "      <td>1014.6</td>\n",
       "      <td>6.47</td>\n",
       "      <td>11.08</td>\n",
       "      <td>1546744020</td>\n",
       "      <td>93</td>\n",
       "      <td>0.75</td>\n",
       "      <td>3</td>\n",
       "      <td>1546717920</td>\n",
       "      <td>9.439</td>\n",
       "      <td>253.2</td>\n",
       "      <td>49.6</td>\n",
       "      <td>1546679040</td>\n",
       "      <td>58.85</td>\n",
       "      <td>1546731240</td>\n",
       "      <td>50.09</td>\n",
       "      <td>1546679040</td>\n",
       "      <td>58.35</td>\n",
       "      <td>1546731240</td>\n",
       "      <td>1</td>\n",
       "      <td>1</td>\n",
       "      <td>54.225</td>\n",
       "    </tr>\n",
       "  </tbody>\n",
       "</table>\n",
       "</div>"
      ],
      "text/plain": [
       "        date        time                                   summary  icon  \\\n",
       "5 2019-01-06  1546675200  Heavy rain in the evening and overnight.  rain   \n",
       "\n",
       "   sunriseTime  sunsetTime  moonPhase  precipIntensity  precipIntensityMax  \\\n",
       "5   1546700460  1546736400        0.0           0.0175              0.2348   \n",
       "\n",
       "   precipIntensityMaxTime  precipProbability precipType  temperatureHigh  \\\n",
       "5              1546754160               0.98       rain            58.85   \n",
       "\n",
       "   temperatureHighTime  temperatureLow  temperatureLowTime  \\\n",
       "5           1546731240           49.07          1546786020   \n",
       "\n",
       "   apparentTemperatureHigh  apparentTemperatureHighTime  \\\n",
       "5                    58.35                   1546731240   \n",
       "\n",
       "   apparentTemperatureLow  apparentTemperatureLowTime  dewPoint  humidity  \\\n",
       "5                   49.56                  1546786020     45.38      0.73   \n",
       "\n",
       "   pressure  windSpeed  windGust  windGustTime  windBearing  cloudCover  \\\n",
       "5    1014.6       6.47     11.08    1546744020           93        0.75   \n",
       "\n",
       "   uvIndex  uvIndexTime  visibility  ozone  temperatureMin  \\\n",
       "5        3   1546717920       9.439  253.2            49.6   \n",
       "\n",
       "   temperatureMinTime  temperatureMax  temperatureMaxTime  \\\n",
       "5          1546679040           58.85          1546731240   \n",
       "\n",
       "   apparentTemperatureMin  apparentTemperatureMinTime  apparentTemperatureMax  \\\n",
       "5                   50.09                  1546679040                   58.35   \n",
       "\n",
       "   apparentTemperatureMaxTime season  month  avgtemp  \n",
       "5                  1546731240      1      1   54.225  "
      ]
     },
     "execution_count": 60,
     "metadata": {},
     "output_type": "execute_result"
    }
   ],
   "source": [
    "df[df['date']== '2019-01-06']"
   ]
  },
  {
   "cell_type": "markdown",
   "metadata": {},
   "source": [
    "Compared to the other delayed dates, we can see this flight was delayed because of its origin airport. On this date in Los Angeles there was a 98% chance of rain, with a cloud coverage of 75%. As we can see this flight was in January, which in Los Angeles it is considered to be the wet season. "
   ]
  }
 ],
 "metadata": {
  "kernelspec": {
   "display_name": "Python 3",
   "language": "python",
   "name": "python3"
  },
  "language_info": {
   "codemirror_mode": {
    "name": "ipython",
    "version": 3
   },
   "file_extension": ".py",
   "mimetype": "text/x-python",
   "name": "python",
   "nbconvert_exporter": "python",
   "pygments_lexer": "ipython3",
   "version": "3.7.4"
  },
  "toc": {
   "base_numbering": 1,
   "nav_menu": {},
   "number_sections": true,
   "sideBar": true,
   "skip_h1_title": false,
   "title_cell": "Table of Contents",
   "title_sidebar": "Contents",
   "toc_cell": false,
   "toc_position": {},
   "toc_section_display": true,
   "toc_window_display": false
  },
  "varInspector": {
   "cols": {
    "lenName": 16,
    "lenType": 16,
    "lenVar": 40
   },
   "kernels_config": {
    "python": {
     "delete_cmd_postfix": "",
     "delete_cmd_prefix": "del ",
     "library": "var_list.py",
     "varRefreshCmd": "print(var_dic_list())"
    },
    "r": {
     "delete_cmd_postfix": ") ",
     "delete_cmd_prefix": "rm(",
     "library": "var_list.r",
     "varRefreshCmd": "cat(var_dic_list()) "
    }
   },
   "types_to_exclude": [
    "module",
    "function",
    "builtin_function_or_method",
    "instance",
    "_Feature"
   ],
   "window_display": false
  }
 },
 "nbformat": 4,
 "nbformat_minor": 2
}
